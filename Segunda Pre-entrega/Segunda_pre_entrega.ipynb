{
  "nbformat": 4,
  "nbformat_minor": 0,
  "metadata": {
    "colab": {
      "provenance": []
    },
    "kernelspec": {
      "name": "python3",
      "display_name": "Python 3"
    },
    "language_info": {
      "name": "python"
    }
  },
  "cells": [
    {
      "cell_type": "markdown",
      "source": [
        "# Objetivo del proyecto:\n",
        "Objetivo del análisis: Evaluar la accesibilidad y la distribución de estaciones de servicio en la Ciudad Autónoma de Buenos Aires (CABA). Se busca analizar la ubicación y concentración de estaciones en los distintos barrios y comunas, con el fin de detectar zonas con alta o baja densidad de cobertura. Además, se pretende localizar áreas con escasa presencia de estaciones de servicio, lo cual podría representar una oportunidad estratégica para empresas interesadas en expandir su red comercial en zonas actualmente desatendidas.\n",
        "\n",
        "\n"
      ],
      "metadata": {
        "id": "PSQ5bhDIJ-4J"
      }
    },
    {
      "cell_type": "code",
      "execution_count": 1,
      "metadata": {
        "id": "95jF2gc8q6hk"
      },
      "outputs": [],
      "source": [
        "import pandas as pd\n",
        "import matplotlib.pyplot as plt\n",
        "import seaborn as sns"
      ]
    },
    {
      "cell_type": "code",
      "source": [
        "estaciones_df= pd.read_csv(\"/content/estaciones_servicio_caba.csv\")"
      ],
      "metadata": {
        "id": "YTYEPkA2rPwm"
      },
      "execution_count": 2,
      "outputs": []
    },
    {
      "cell_type": "code",
      "source": [
        "estaciones_df"
      ],
      "metadata": {
        "colab": {
          "base_uri": "https://localhost:8080/",
          "height": 894
        },
        "id": "XjRAQ6iRruC0",
        "outputId": "bedf6e1a-58e5-4376-80f7-64d28fcd66a3"
      },
      "execution_count": 3,
      "outputs": [
        {
          "output_type": "execute_result",
          "data": {
            "text/plain": [
              "          long        lat    id nombre                           razon_social  \\\n",
              "0   -58.491818 -34.582446  1074  ASPRO                    GNC LOS AMIGOS S.A.   \n",
              "1   -58.413959 -34.606224  1076  ASPRO               GAS ING SOCIEDAD ANONIMA   \n",
              "2   -58.371516 -34.591481    84  DAPSA  DESTILERIA ARGENTINA DE PETROLEO S.A.   \n",
              "3   -58.486913 -34.567834   114   ESSO          SERVICENTRO CONGRESO - 158698   \n",
              "4   -58.466071 -34.562203   115   ESSO         SERVICENTRO DEL TEJAR - 158625   \n",
              "..         ...        ...   ...    ...                                    ...   \n",
              "225 -58.429028 -34.608501     4    YPF                           OPESSA YATAY   \n",
              "226 -58.478230 -34.583890     3    YPF         ESTACION DE SERVICIO AVALOS SA   \n",
              "227 -58.471680 -34.568410     2    YPF                       SERVICE NAON SRL   \n",
              "228 -58.434579 -34.622871     1    YPF                               DIGON SA   \n",
              "229 -58.481321 -34.690642   496    YPF                     CHILAVERT 1990 SRL   \n",
              "\n",
              "              cuit tipo_de_boca  \\\n",
              "0    30-64711854-9          GNC   \n",
              "1    30-64581284-7          GNC   \n",
              "2    30-55025533-9     LIQUIDOS   \n",
              "3    30-50691900-9         DUAL   \n",
              "4    30-50691900-9     LIQUIDOS   \n",
              "..             ...          ...   \n",
              "225  30-67877449-5         DUAL   \n",
              "226  30-54171558-0     LIQUIDOS   \n",
              "227  30-57258575-8     LIQUIDOS   \n",
              "228  30-64198424-4          GNC   \n",
              "229  30-59476092-8         DUAL   \n",
              "\n",
              "                                             domicilio  \\\n",
              "0    AV. DE LOS CONSTITUYENTES 4480 ESQ. VALLEJOS, ...   \n",
              "1    SARMIENTO 3412 ESQ., CIUDAD AUTóNOMA DE BUENOS...   \n",
              "2      AVDA. E. MADERO Y SAN MARTIN, RETIRO - C.A.B.A.   \n",
              "3                 AV CONGRESO 4801, CAPITAL FED ZONA 5   \n",
              "4                      MONROE 3078, CAPITAL FED ZONA 5   \n",
              "..                                                 ...   \n",
              "225   AVENIDA DIAZ VELEZ 4373 Y YATAY, CAPITAL FEDERAL   \n",
              "226  AVENIDA DE LOS INCAS 4801 Y AVALOS, CAPITAL FE...   \n",
              "227  AVENIDA FELIX DE OLAZABAL 3690 Y ROMULO NAON, ...   \n",
              "228  AVENIDA JOSE M MORENO Y AVDA JUAN B ALBERDI, C...   \n",
              "229                 CHILAVERT Y GRAL PAZ, VILLA CELINA   \n",
              "\n",
              "                       calle_nombre  calle_altura             calle_cruce  \\\n",
              "0         DE LOS CONSTITUYENTES AV.           NaN                 MENDOZA   \n",
              "1                             GALLO           NaN               SARMIENTO   \n",
              "2        MARTINEZ ZUVIRIA, GUSTAVO,           NaN              SAN MARTIN   \n",
              "3                      CONGRESO AV.        4801.0                  GALVAN   \n",
              "4          BALBIN, RICARDO, DR. AV.        3078.0                  MONROE   \n",
              "..                              ...           ...                     ...   \n",
              "225                  DIAZ VELEZ AV.           NaN                   YATAY   \n",
              "226                          AVALOS           NaN        DE LOS INCAS AV.   \n",
              "227                    NAON, ROMULO           NaN            OLAZABAL AV.   \n",
              "228      ALBERDI, JUAN BAUTISTA AV.           NaN  MORENO, JOSE MARIA AV.   \n",
              "229  CHILAVERT, MARTINIANO, CORONEL           NaN          PAZ, GRAL. AV.   \n",
              "\n",
              "               barrio     comuna  \n",
              "0    Villa Pueyrredon  Comuna 12  \n",
              "1             Almagro   Comuna 5  \n",
              "2              Retiro   Comuna 1  \n",
              "3       Villa Urquiza  Comuna 12  \n",
              "4            Belgrano  Comuna 13  \n",
              "..                ...        ...  \n",
              "225           Almagro   Comuna 5  \n",
              "226       Parque Chas  Comuna 15  \n",
              "227          Belgrano  Comuna 13  \n",
              "228         Caballito   Comuna 6  \n",
              "229               NaN        NaN  \n",
              "\n",
              "[230 rows x 13 columns]"
            ],
            "text/html": [
              "\n",
              "  <div id=\"df-afacb67e-b234-4849-aa0f-9483df10ba20\" class=\"colab-df-container\">\n",
              "    <div>\n",
              "<style scoped>\n",
              "    .dataframe tbody tr th:only-of-type {\n",
              "        vertical-align: middle;\n",
              "    }\n",
              "\n",
              "    .dataframe tbody tr th {\n",
              "        vertical-align: top;\n",
              "    }\n",
              "\n",
              "    .dataframe thead th {\n",
              "        text-align: right;\n",
              "    }\n",
              "</style>\n",
              "<table border=\"1\" class=\"dataframe\">\n",
              "  <thead>\n",
              "    <tr style=\"text-align: right;\">\n",
              "      <th></th>\n",
              "      <th>long</th>\n",
              "      <th>lat</th>\n",
              "      <th>id</th>\n",
              "      <th>nombre</th>\n",
              "      <th>razon_social</th>\n",
              "      <th>cuit</th>\n",
              "      <th>tipo_de_boca</th>\n",
              "      <th>domicilio</th>\n",
              "      <th>calle_nombre</th>\n",
              "      <th>calle_altura</th>\n",
              "      <th>calle_cruce</th>\n",
              "      <th>barrio</th>\n",
              "      <th>comuna</th>\n",
              "    </tr>\n",
              "  </thead>\n",
              "  <tbody>\n",
              "    <tr>\n",
              "      <th>0</th>\n",
              "      <td>-58.491818</td>\n",
              "      <td>-34.582446</td>\n",
              "      <td>1074</td>\n",
              "      <td>ASPRO</td>\n",
              "      <td>GNC LOS AMIGOS S.A.</td>\n",
              "      <td>30-64711854-9</td>\n",
              "      <td>GNC</td>\n",
              "      <td>AV. DE LOS CONSTITUYENTES 4480 ESQ. VALLEJOS, ...</td>\n",
              "      <td>DE LOS CONSTITUYENTES AV.</td>\n",
              "      <td>NaN</td>\n",
              "      <td>MENDOZA</td>\n",
              "      <td>Villa Pueyrredon</td>\n",
              "      <td>Comuna 12</td>\n",
              "    </tr>\n",
              "    <tr>\n",
              "      <th>1</th>\n",
              "      <td>-58.413959</td>\n",
              "      <td>-34.606224</td>\n",
              "      <td>1076</td>\n",
              "      <td>ASPRO</td>\n",
              "      <td>GAS ING SOCIEDAD ANONIMA</td>\n",
              "      <td>30-64581284-7</td>\n",
              "      <td>GNC</td>\n",
              "      <td>SARMIENTO 3412 ESQ., CIUDAD AUTóNOMA DE BUENOS...</td>\n",
              "      <td>GALLO</td>\n",
              "      <td>NaN</td>\n",
              "      <td>SARMIENTO</td>\n",
              "      <td>Almagro</td>\n",
              "      <td>Comuna 5</td>\n",
              "    </tr>\n",
              "    <tr>\n",
              "      <th>2</th>\n",
              "      <td>-58.371516</td>\n",
              "      <td>-34.591481</td>\n",
              "      <td>84</td>\n",
              "      <td>DAPSA</td>\n",
              "      <td>DESTILERIA ARGENTINA DE PETROLEO S.A.</td>\n",
              "      <td>30-55025533-9</td>\n",
              "      <td>LIQUIDOS</td>\n",
              "      <td>AVDA. E. MADERO Y SAN MARTIN, RETIRO - C.A.B.A.</td>\n",
              "      <td>MARTINEZ ZUVIRIA, GUSTAVO,</td>\n",
              "      <td>NaN</td>\n",
              "      <td>SAN MARTIN</td>\n",
              "      <td>Retiro</td>\n",
              "      <td>Comuna 1</td>\n",
              "    </tr>\n",
              "    <tr>\n",
              "      <th>3</th>\n",
              "      <td>-58.486913</td>\n",
              "      <td>-34.567834</td>\n",
              "      <td>114</td>\n",
              "      <td>ESSO</td>\n",
              "      <td>SERVICENTRO CONGRESO - 158698</td>\n",
              "      <td>30-50691900-9</td>\n",
              "      <td>DUAL</td>\n",
              "      <td>AV CONGRESO 4801, CAPITAL FED ZONA 5</td>\n",
              "      <td>CONGRESO AV.</td>\n",
              "      <td>4801.0</td>\n",
              "      <td>GALVAN</td>\n",
              "      <td>Villa Urquiza</td>\n",
              "      <td>Comuna 12</td>\n",
              "    </tr>\n",
              "    <tr>\n",
              "      <th>4</th>\n",
              "      <td>-58.466071</td>\n",
              "      <td>-34.562203</td>\n",
              "      <td>115</td>\n",
              "      <td>ESSO</td>\n",
              "      <td>SERVICENTRO DEL TEJAR - 158625</td>\n",
              "      <td>30-50691900-9</td>\n",
              "      <td>LIQUIDOS</td>\n",
              "      <td>MONROE 3078, CAPITAL FED ZONA 5</td>\n",
              "      <td>BALBIN, RICARDO, DR. AV.</td>\n",
              "      <td>3078.0</td>\n",
              "      <td>MONROE</td>\n",
              "      <td>Belgrano</td>\n",
              "      <td>Comuna 13</td>\n",
              "    </tr>\n",
              "    <tr>\n",
              "      <th>...</th>\n",
              "      <td>...</td>\n",
              "      <td>...</td>\n",
              "      <td>...</td>\n",
              "      <td>...</td>\n",
              "      <td>...</td>\n",
              "      <td>...</td>\n",
              "      <td>...</td>\n",
              "      <td>...</td>\n",
              "      <td>...</td>\n",
              "      <td>...</td>\n",
              "      <td>...</td>\n",
              "      <td>...</td>\n",
              "      <td>...</td>\n",
              "    </tr>\n",
              "    <tr>\n",
              "      <th>225</th>\n",
              "      <td>-58.429028</td>\n",
              "      <td>-34.608501</td>\n",
              "      <td>4</td>\n",
              "      <td>YPF</td>\n",
              "      <td>OPESSA YATAY</td>\n",
              "      <td>30-67877449-5</td>\n",
              "      <td>DUAL</td>\n",
              "      <td>AVENIDA DIAZ VELEZ 4373 Y YATAY, CAPITAL FEDERAL</td>\n",
              "      <td>DIAZ VELEZ AV.</td>\n",
              "      <td>NaN</td>\n",
              "      <td>YATAY</td>\n",
              "      <td>Almagro</td>\n",
              "      <td>Comuna 5</td>\n",
              "    </tr>\n",
              "    <tr>\n",
              "      <th>226</th>\n",
              "      <td>-58.478230</td>\n",
              "      <td>-34.583890</td>\n",
              "      <td>3</td>\n",
              "      <td>YPF</td>\n",
              "      <td>ESTACION DE SERVICIO AVALOS SA</td>\n",
              "      <td>30-54171558-0</td>\n",
              "      <td>LIQUIDOS</td>\n",
              "      <td>AVENIDA DE LOS INCAS 4801 Y AVALOS, CAPITAL FE...</td>\n",
              "      <td>AVALOS</td>\n",
              "      <td>NaN</td>\n",
              "      <td>DE LOS INCAS AV.</td>\n",
              "      <td>Parque Chas</td>\n",
              "      <td>Comuna 15</td>\n",
              "    </tr>\n",
              "    <tr>\n",
              "      <th>227</th>\n",
              "      <td>-58.471680</td>\n",
              "      <td>-34.568410</td>\n",
              "      <td>2</td>\n",
              "      <td>YPF</td>\n",
              "      <td>SERVICE NAON SRL</td>\n",
              "      <td>30-57258575-8</td>\n",
              "      <td>LIQUIDOS</td>\n",
              "      <td>AVENIDA FELIX DE OLAZABAL 3690 Y ROMULO NAON, ...</td>\n",
              "      <td>NAON, ROMULO</td>\n",
              "      <td>NaN</td>\n",
              "      <td>OLAZABAL AV.</td>\n",
              "      <td>Belgrano</td>\n",
              "      <td>Comuna 13</td>\n",
              "    </tr>\n",
              "    <tr>\n",
              "      <th>228</th>\n",
              "      <td>-58.434579</td>\n",
              "      <td>-34.622871</td>\n",
              "      <td>1</td>\n",
              "      <td>YPF</td>\n",
              "      <td>DIGON SA</td>\n",
              "      <td>30-64198424-4</td>\n",
              "      <td>GNC</td>\n",
              "      <td>AVENIDA JOSE M MORENO Y AVDA JUAN B ALBERDI, C...</td>\n",
              "      <td>ALBERDI, JUAN BAUTISTA AV.</td>\n",
              "      <td>NaN</td>\n",
              "      <td>MORENO, JOSE MARIA AV.</td>\n",
              "      <td>Caballito</td>\n",
              "      <td>Comuna 6</td>\n",
              "    </tr>\n",
              "    <tr>\n",
              "      <th>229</th>\n",
              "      <td>-58.481321</td>\n",
              "      <td>-34.690642</td>\n",
              "      <td>496</td>\n",
              "      <td>YPF</td>\n",
              "      <td>CHILAVERT 1990 SRL</td>\n",
              "      <td>30-59476092-8</td>\n",
              "      <td>DUAL</td>\n",
              "      <td>CHILAVERT Y GRAL PAZ, VILLA CELINA</td>\n",
              "      <td>CHILAVERT, MARTINIANO, CORONEL</td>\n",
              "      <td>NaN</td>\n",
              "      <td>PAZ, GRAL. AV.</td>\n",
              "      <td>NaN</td>\n",
              "      <td>NaN</td>\n",
              "    </tr>\n",
              "  </tbody>\n",
              "</table>\n",
              "<p>230 rows × 13 columns</p>\n",
              "</div>\n",
              "    <div class=\"colab-df-buttons\">\n",
              "\n",
              "  <div class=\"colab-df-container\">\n",
              "    <button class=\"colab-df-convert\" onclick=\"convertToInteractive('df-afacb67e-b234-4849-aa0f-9483df10ba20')\"\n",
              "            title=\"Convert this dataframe to an interactive table.\"\n",
              "            style=\"display:none;\">\n",
              "\n",
              "  <svg xmlns=\"http://www.w3.org/2000/svg\" height=\"24px\" viewBox=\"0 -960 960 960\">\n",
              "    <path d=\"M120-120v-720h720v720H120Zm60-500h600v-160H180v160Zm220 220h160v-160H400v160Zm0 220h160v-160H400v160ZM180-400h160v-160H180v160Zm440 0h160v-160H620v160ZM180-180h160v-160H180v160Zm440 0h160v-160H620v160Z\"/>\n",
              "  </svg>\n",
              "    </button>\n",
              "\n",
              "  <style>\n",
              "    .colab-df-container {\n",
              "      display:flex;\n",
              "      gap: 12px;\n",
              "    }\n",
              "\n",
              "    .colab-df-convert {\n",
              "      background-color: #E8F0FE;\n",
              "      border: none;\n",
              "      border-radius: 50%;\n",
              "      cursor: pointer;\n",
              "      display: none;\n",
              "      fill: #1967D2;\n",
              "      height: 32px;\n",
              "      padding: 0 0 0 0;\n",
              "      width: 32px;\n",
              "    }\n",
              "\n",
              "    .colab-df-convert:hover {\n",
              "      background-color: #E2EBFA;\n",
              "      box-shadow: 0px 1px 2px rgba(60, 64, 67, 0.3), 0px 1px 3px 1px rgba(60, 64, 67, 0.15);\n",
              "      fill: #174EA6;\n",
              "    }\n",
              "\n",
              "    .colab-df-buttons div {\n",
              "      margin-bottom: 4px;\n",
              "    }\n",
              "\n",
              "    [theme=dark] .colab-df-convert {\n",
              "      background-color: #3B4455;\n",
              "      fill: #D2E3FC;\n",
              "    }\n",
              "\n",
              "    [theme=dark] .colab-df-convert:hover {\n",
              "      background-color: #434B5C;\n",
              "      box-shadow: 0px 1px 3px 1px rgba(0, 0, 0, 0.15);\n",
              "      filter: drop-shadow(0px 1px 2px rgba(0, 0, 0, 0.3));\n",
              "      fill: #FFFFFF;\n",
              "    }\n",
              "  </style>\n",
              "\n",
              "    <script>\n",
              "      const buttonEl =\n",
              "        document.querySelector('#df-afacb67e-b234-4849-aa0f-9483df10ba20 button.colab-df-convert');\n",
              "      buttonEl.style.display =\n",
              "        google.colab.kernel.accessAllowed ? 'block' : 'none';\n",
              "\n",
              "      async function convertToInteractive(key) {\n",
              "        const element = document.querySelector('#df-afacb67e-b234-4849-aa0f-9483df10ba20');\n",
              "        const dataTable =\n",
              "          await google.colab.kernel.invokeFunction('convertToInteractive',\n",
              "                                                    [key], {});\n",
              "        if (!dataTable) return;\n",
              "\n",
              "        const docLinkHtml = 'Like what you see? Visit the ' +\n",
              "          '<a target=\"_blank\" href=https://colab.research.google.com/notebooks/data_table.ipynb>data table notebook</a>'\n",
              "          + ' to learn more about interactive tables.';\n",
              "        element.innerHTML = '';\n",
              "        dataTable['output_type'] = 'display_data';\n",
              "        await google.colab.output.renderOutput(dataTable, element);\n",
              "        const docLink = document.createElement('div');\n",
              "        docLink.innerHTML = docLinkHtml;\n",
              "        element.appendChild(docLink);\n",
              "      }\n",
              "    </script>\n",
              "  </div>\n",
              "\n",
              "\n",
              "    <div id=\"df-c03118e7-378a-4baa-9737-af1ef1433c00\">\n",
              "      <button class=\"colab-df-quickchart\" onclick=\"quickchart('df-c03118e7-378a-4baa-9737-af1ef1433c00')\"\n",
              "                title=\"Suggest charts\"\n",
              "                style=\"display:none;\">\n",
              "\n",
              "<svg xmlns=\"http://www.w3.org/2000/svg\" height=\"24px\"viewBox=\"0 0 24 24\"\n",
              "     width=\"24px\">\n",
              "    <g>\n",
              "        <path d=\"M19 3H5c-1.1 0-2 .9-2 2v14c0 1.1.9 2 2 2h14c1.1 0 2-.9 2-2V5c0-1.1-.9-2-2-2zM9 17H7v-7h2v7zm4 0h-2V7h2v10zm4 0h-2v-4h2v4z\"/>\n",
              "    </g>\n",
              "</svg>\n",
              "      </button>\n",
              "\n",
              "<style>\n",
              "  .colab-df-quickchart {\n",
              "      --bg-color: #E8F0FE;\n",
              "      --fill-color: #1967D2;\n",
              "      --hover-bg-color: #E2EBFA;\n",
              "      --hover-fill-color: #174EA6;\n",
              "      --disabled-fill-color: #AAA;\n",
              "      --disabled-bg-color: #DDD;\n",
              "  }\n",
              "\n",
              "  [theme=dark] .colab-df-quickchart {\n",
              "      --bg-color: #3B4455;\n",
              "      --fill-color: #D2E3FC;\n",
              "      --hover-bg-color: #434B5C;\n",
              "      --hover-fill-color: #FFFFFF;\n",
              "      --disabled-bg-color: #3B4455;\n",
              "      --disabled-fill-color: #666;\n",
              "  }\n",
              "\n",
              "  .colab-df-quickchart {\n",
              "    background-color: var(--bg-color);\n",
              "    border: none;\n",
              "    border-radius: 50%;\n",
              "    cursor: pointer;\n",
              "    display: none;\n",
              "    fill: var(--fill-color);\n",
              "    height: 32px;\n",
              "    padding: 0;\n",
              "    width: 32px;\n",
              "  }\n",
              "\n",
              "  .colab-df-quickchart:hover {\n",
              "    background-color: var(--hover-bg-color);\n",
              "    box-shadow: 0 1px 2px rgba(60, 64, 67, 0.3), 0 1px 3px 1px rgba(60, 64, 67, 0.15);\n",
              "    fill: var(--button-hover-fill-color);\n",
              "  }\n",
              "\n",
              "  .colab-df-quickchart-complete:disabled,\n",
              "  .colab-df-quickchart-complete:disabled:hover {\n",
              "    background-color: var(--disabled-bg-color);\n",
              "    fill: var(--disabled-fill-color);\n",
              "    box-shadow: none;\n",
              "  }\n",
              "\n",
              "  .colab-df-spinner {\n",
              "    border: 2px solid var(--fill-color);\n",
              "    border-color: transparent;\n",
              "    border-bottom-color: var(--fill-color);\n",
              "    animation:\n",
              "      spin 1s steps(1) infinite;\n",
              "  }\n",
              "\n",
              "  @keyframes spin {\n",
              "    0% {\n",
              "      border-color: transparent;\n",
              "      border-bottom-color: var(--fill-color);\n",
              "      border-left-color: var(--fill-color);\n",
              "    }\n",
              "    20% {\n",
              "      border-color: transparent;\n",
              "      border-left-color: var(--fill-color);\n",
              "      border-top-color: var(--fill-color);\n",
              "    }\n",
              "    30% {\n",
              "      border-color: transparent;\n",
              "      border-left-color: var(--fill-color);\n",
              "      border-top-color: var(--fill-color);\n",
              "      border-right-color: var(--fill-color);\n",
              "    }\n",
              "    40% {\n",
              "      border-color: transparent;\n",
              "      border-right-color: var(--fill-color);\n",
              "      border-top-color: var(--fill-color);\n",
              "    }\n",
              "    60% {\n",
              "      border-color: transparent;\n",
              "      border-right-color: var(--fill-color);\n",
              "    }\n",
              "    80% {\n",
              "      border-color: transparent;\n",
              "      border-right-color: var(--fill-color);\n",
              "      border-bottom-color: var(--fill-color);\n",
              "    }\n",
              "    90% {\n",
              "      border-color: transparent;\n",
              "      border-bottom-color: var(--fill-color);\n",
              "    }\n",
              "  }\n",
              "</style>\n",
              "\n",
              "      <script>\n",
              "        async function quickchart(key) {\n",
              "          const quickchartButtonEl =\n",
              "            document.querySelector('#' + key + ' button');\n",
              "          quickchartButtonEl.disabled = true;  // To prevent multiple clicks.\n",
              "          quickchartButtonEl.classList.add('colab-df-spinner');\n",
              "          try {\n",
              "            const charts = await google.colab.kernel.invokeFunction(\n",
              "                'suggestCharts', [key], {});\n",
              "          } catch (error) {\n",
              "            console.error('Error during call to suggestCharts:', error);\n",
              "          }\n",
              "          quickchartButtonEl.classList.remove('colab-df-spinner');\n",
              "          quickchartButtonEl.classList.add('colab-df-quickchart-complete');\n",
              "        }\n",
              "        (() => {\n",
              "          let quickchartButtonEl =\n",
              "            document.querySelector('#df-c03118e7-378a-4baa-9737-af1ef1433c00 button');\n",
              "          quickchartButtonEl.style.display =\n",
              "            google.colab.kernel.accessAllowed ? 'block' : 'none';\n",
              "        })();\n",
              "      </script>\n",
              "    </div>\n",
              "\n",
              "  <div id=\"id_b71b2d00-e5e8-4c0d-bad7-ba5a1477f554\">\n",
              "    <style>\n",
              "      .colab-df-generate {\n",
              "        background-color: #E8F0FE;\n",
              "        border: none;\n",
              "        border-radius: 50%;\n",
              "        cursor: pointer;\n",
              "        display: none;\n",
              "        fill: #1967D2;\n",
              "        height: 32px;\n",
              "        padding: 0 0 0 0;\n",
              "        width: 32px;\n",
              "      }\n",
              "\n",
              "      .colab-df-generate:hover {\n",
              "        background-color: #E2EBFA;\n",
              "        box-shadow: 0px 1px 2px rgba(60, 64, 67, 0.3), 0px 1px 3px 1px rgba(60, 64, 67, 0.15);\n",
              "        fill: #174EA6;\n",
              "      }\n",
              "\n",
              "      [theme=dark] .colab-df-generate {\n",
              "        background-color: #3B4455;\n",
              "        fill: #D2E3FC;\n",
              "      }\n",
              "\n",
              "      [theme=dark] .colab-df-generate:hover {\n",
              "        background-color: #434B5C;\n",
              "        box-shadow: 0px 1px 3px 1px rgba(0, 0, 0, 0.15);\n",
              "        filter: drop-shadow(0px 1px 2px rgba(0, 0, 0, 0.3));\n",
              "        fill: #FFFFFF;\n",
              "      }\n",
              "    </style>\n",
              "    <button class=\"colab-df-generate\" onclick=\"generateWithVariable('estaciones_df')\"\n",
              "            title=\"Generate code using this dataframe.\"\n",
              "            style=\"display:none;\">\n",
              "\n",
              "  <svg xmlns=\"http://www.w3.org/2000/svg\" height=\"24px\"viewBox=\"0 0 24 24\"\n",
              "       width=\"24px\">\n",
              "    <path d=\"M7,19H8.4L18.45,9,17,7.55,7,17.6ZM5,21V16.75L18.45,3.32a2,2,0,0,1,2.83,0l1.4,1.43a1.91,1.91,0,0,1,.58,1.4,1.91,1.91,0,0,1-.58,1.4L9.25,21ZM18.45,9,17,7.55Zm-12,3A5.31,5.31,0,0,0,4.9,8.1,5.31,5.31,0,0,0,1,6.5,5.31,5.31,0,0,0,4.9,4.9,5.31,5.31,0,0,0,6.5,1,5.31,5.31,0,0,0,8.1,4.9,5.31,5.31,0,0,0,12,6.5,5.46,5.46,0,0,0,6.5,12Z\"/>\n",
              "  </svg>\n",
              "    </button>\n",
              "    <script>\n",
              "      (() => {\n",
              "      const buttonEl =\n",
              "        document.querySelector('#id_b71b2d00-e5e8-4c0d-bad7-ba5a1477f554 button.colab-df-generate');\n",
              "      buttonEl.style.display =\n",
              "        google.colab.kernel.accessAllowed ? 'block' : 'none';\n",
              "\n",
              "      buttonEl.onclick = () => {\n",
              "        google.colab.notebook.generateWithVariable('estaciones_df');\n",
              "      }\n",
              "      })();\n",
              "    </script>\n",
              "  </div>\n",
              "\n",
              "    </div>\n",
              "  </div>\n"
            ],
            "application/vnd.google.colaboratory.intrinsic+json": {
              "type": "dataframe",
              "variable_name": "estaciones_df",
              "summary": "{\n  \"name\": \"estaciones_df\",\n  \"rows\": 230,\n  \"fields\": [\n    {\n      \"column\": \"long\",\n      \"properties\": {\n        \"dtype\": \"number\",\n        \"std\": 0.04146319396699722,\n        \"min\": -58.5301925890779,\n        \"max\": -58.3635546483074,\n        \"num_unique_values\": 230,\n        \"samples\": [\n          -58.482110801045,\n          -58.4238689602541,\n          -58.3761660822694\n        ],\n        \"semantic_type\": \"\",\n        \"description\": \"\"\n      }\n    },\n    {\n      \"column\": \"lat\",\n      \"properties\": {\n        \"dtype\": \"number\",\n        \"std\": 0.033409258057664475,\n        \"min\": -34.6969705419266,\n        \"max\": -34.538318941478,\n        \"num_unique_values\": 230,\n        \"samples\": [\n          -34.6512214333317,\n          -34.5976544972201,\n          -34.6162991556142\n        ],\n        \"semantic_type\": \"\",\n        \"description\": \"\"\n      }\n    },\n    {\n      \"column\": \"id\",\n      \"properties\": {\n        \"dtype\": \"number\",\n        \"std\": 119,\n        \"min\": 1,\n        \"max\": 1076,\n        \"num_unique_values\": 230,\n        \"samples\": [\n          14,\n          157,\n          122\n        ],\n        \"semantic_type\": \"\",\n        \"description\": \"\"\n      }\n    },\n    {\n      \"column\": \"nombre\",\n      \"properties\": {\n        \"dtype\": \"category\",\n        \"num_unique_values\": 11,\n        \"samples\": [\n          \"PETROBRAS\",\n          \"ASPRO\",\n          \"SOL\"\n        ],\n        \"semantic_type\": \"\",\n        \"description\": \"\"\n      }\n    },\n    {\n      \"column\": \"razon_social\",\n      \"properties\": {\n        \"dtype\": \"string\",\n        \"num_unique_values\": 212,\n        \"samples\": [\n          \"SERVICENTRO LIBERTADOR - 158631\",\n          \"MAURER & GRUMELLI SRL\",\n          \"NAFPUR SA\"\n        ],\n        \"semantic_type\": \"\",\n        \"description\": \"\"\n      }\n    },\n    {\n      \"column\": \"cuit\",\n      \"properties\": {\n        \"dtype\": \"string\",\n        \"num_unique_values\": 157,\n        \"samples\": [\n          \"30-65721366-3\",\n          \"30-65084645-8\",\n          \"30-57223430-0\"\n        ],\n        \"semantic_type\": \"\",\n        \"description\": \"\"\n      }\n    },\n    {\n      \"column\": \"tipo_de_boca\",\n      \"properties\": {\n        \"dtype\": \"category\",\n        \"num_unique_values\": 3,\n        \"samples\": [\n          \"GNC\",\n          \"LIQUIDOS\",\n          \"DUAL\"\n        ],\n        \"semantic_type\": \"\",\n        \"description\": \"\"\n      }\n    },\n    {\n      \"column\": \"domicilio\",\n      \"properties\": {\n        \"dtype\": \"string\",\n        \"num_unique_values\": 230,\n        \"samples\": [\n          \"AVENIDA DOMINGO OLIVERA 1136 Y WHITE, CAPITAL FEDERAL\",\n          \"AV. CORDOBA 4060, CAPITAL FEDERAL\",\n          \"CHILE 702 ESQ. CHACABUCO, CAPITAL FED ZONA 1\"\n        ],\n        \"semantic_type\": \"\",\n        \"description\": \"\"\n      }\n    },\n    {\n      \"column\": \"calle_nombre\",\n      \"properties\": {\n        \"dtype\": \"string\",\n        \"num_unique_values\": 149,\n        \"samples\": [\n          \"BAHIA BLANCA\",\n          \"BEIRO, FRANCISCO AV.\",\n          \"TOLL\"\n        ],\n        \"semantic_type\": \"\",\n        \"description\": \"\"\n      }\n    },\n    {\n      \"column\": \"calle_altura\",\n      \"properties\": {\n        \"dtype\": \"number\",\n        \"std\": 1845.4209815409101,\n        \"min\": 19.0,\n        \"max\": 7920.0,\n        \"num_unique_values\": 77,\n        \"samples\": [\n          3550.0,\n          1691.0,\n          6398.0\n        ],\n        \"semantic_type\": \"\",\n        \"description\": \"\"\n      }\n    },\n    {\n      \"column\": \"calle_cruce\",\n      \"properties\": {\n        \"dtype\": \"string\",\n        \"num_unique_values\": 181,\n        \"samples\": [\n          \"SAN MARTIN AV.\",\n          \"DE LA TORRE, LISANDRO AV.\",\n          \"POLA\"\n        ],\n        \"semantic_type\": \"\",\n        \"description\": \"\"\n      }\n    },\n    {\n      \"column\": \"barrio\",\n      \"properties\": {\n        \"dtype\": \"category\",\n        \"num_unique_values\": 45,\n        \"samples\": [\n          \"Boca\",\n          \"Recoleta\",\n          \"Flores\"\n        ],\n        \"semantic_type\": \"\",\n        \"description\": \"\"\n      }\n    },\n    {\n      \"column\": \"comuna\",\n      \"properties\": {\n        \"dtype\": \"category\",\n        \"num_unique_values\": 15,\n        \"samples\": [\n          \"Comuna 6\",\n          \"Comuna 4\",\n          \"Comuna 12\"\n        ],\n        \"semantic_type\": \"\",\n        \"description\": \"\"\n      }\n    }\n  ]\n}"
            }
          },
          "metadata": {},
          "execution_count": 3
        }
      ]
    },
    {
      "cell_type": "markdown",
      "source": [
        "# Informacion del dataset:\n"
      ],
      "metadata": {
        "id": "3SjmcboHshAM"
      }
    },
    {
      "cell_type": "markdown",
      "source": [
        "####Primeras cinco filas\n"
      ],
      "metadata": {
        "id": "9JComVRX3LRg"
      }
    },
    {
      "cell_type": "code",
      "source": [
        "estaciones_df.head()"
      ],
      "metadata": {
        "colab": {
          "base_uri": "https://localhost:8080/",
          "height": 452
        },
        "id": "CN540g0lsn2X",
        "outputId": "f48503ea-1f84-4940-92eb-9a6d9ad4d0c3"
      },
      "execution_count": null,
      "outputs": [
        {
          "output_type": "execute_result",
          "data": {
            "text/plain": [
              "        long        lat    id nombre                           razon_social  \\\n",
              "0 -58.491818 -34.582446  1074  ASPRO                    GNC LOS AMIGOS S.A.   \n",
              "1 -58.413959 -34.606224  1076  ASPRO               GAS ING SOCIEDAD ANONIMA   \n",
              "2 -58.371516 -34.591481    84  DAPSA  DESTILERIA ARGENTINA DE PETROLEO S.A.   \n",
              "3 -58.486913 -34.567834   114   ESSO          SERVICENTRO CONGRESO - 158698   \n",
              "4 -58.466071 -34.562203   115   ESSO         SERVICENTRO DEL TEJAR - 158625   \n",
              "\n",
              "            cuit tipo_de_boca  \\\n",
              "0  30-64711854-9          GNC   \n",
              "1  30-64581284-7          GNC   \n",
              "2  30-55025533-9     LIQUIDOS   \n",
              "3  30-50691900-9         DUAL   \n",
              "4  30-50691900-9     LIQUIDOS   \n",
              "\n",
              "                                           domicilio  \\\n",
              "0  AV. DE LOS CONSTITUYENTES 4480 ESQ. VALLEJOS, ...   \n",
              "1  SARMIENTO 3412 ESQ., CIUDAD AUTóNOMA DE BUENOS...   \n",
              "2    AVDA. E. MADERO Y SAN MARTIN, RETIRO - C.A.B.A.   \n",
              "3               AV CONGRESO 4801, CAPITAL FED ZONA 5   \n",
              "4                    MONROE 3078, CAPITAL FED ZONA 5   \n",
              "\n",
              "                 calle_nombre  calle_altura calle_cruce            barrio  \\\n",
              "0   DE LOS CONSTITUYENTES AV.           NaN     MENDOZA  Villa Pueyrredon   \n",
              "1                       GALLO           NaN   SARMIENTO           Almagro   \n",
              "2  MARTINEZ ZUVIRIA, GUSTAVO,           NaN  SAN MARTIN            Retiro   \n",
              "3                CONGRESO AV.        4801.0      GALVAN     Villa Urquiza   \n",
              "4    BALBIN, RICARDO, DR. AV.        3078.0      MONROE          Belgrano   \n",
              "\n",
              "      comuna  \n",
              "0  Comuna 12  \n",
              "1   Comuna 5  \n",
              "2   Comuna 1  \n",
              "3  Comuna 12  \n",
              "4  Comuna 13  "
            ],
            "text/html": [
              "\n",
              "  <div id=\"df-57219e02-7db4-4dc0-93d1-eee04174927c\" class=\"colab-df-container\">\n",
              "    <div>\n",
              "<style scoped>\n",
              "    .dataframe tbody tr th:only-of-type {\n",
              "        vertical-align: middle;\n",
              "    }\n",
              "\n",
              "    .dataframe tbody tr th {\n",
              "        vertical-align: top;\n",
              "    }\n",
              "\n",
              "    .dataframe thead th {\n",
              "        text-align: right;\n",
              "    }\n",
              "</style>\n",
              "<table border=\"1\" class=\"dataframe\">\n",
              "  <thead>\n",
              "    <tr style=\"text-align: right;\">\n",
              "      <th></th>\n",
              "      <th>long</th>\n",
              "      <th>lat</th>\n",
              "      <th>id</th>\n",
              "      <th>nombre</th>\n",
              "      <th>razon_social</th>\n",
              "      <th>cuit</th>\n",
              "      <th>tipo_de_boca</th>\n",
              "      <th>domicilio</th>\n",
              "      <th>calle_nombre</th>\n",
              "      <th>calle_altura</th>\n",
              "      <th>calle_cruce</th>\n",
              "      <th>barrio</th>\n",
              "      <th>comuna</th>\n",
              "    </tr>\n",
              "  </thead>\n",
              "  <tbody>\n",
              "    <tr>\n",
              "      <th>0</th>\n",
              "      <td>-58.491818</td>\n",
              "      <td>-34.582446</td>\n",
              "      <td>1074</td>\n",
              "      <td>ASPRO</td>\n",
              "      <td>GNC LOS AMIGOS S.A.</td>\n",
              "      <td>30-64711854-9</td>\n",
              "      <td>GNC</td>\n",
              "      <td>AV. DE LOS CONSTITUYENTES 4480 ESQ. VALLEJOS, ...</td>\n",
              "      <td>DE LOS CONSTITUYENTES AV.</td>\n",
              "      <td>NaN</td>\n",
              "      <td>MENDOZA</td>\n",
              "      <td>Villa Pueyrredon</td>\n",
              "      <td>Comuna 12</td>\n",
              "    </tr>\n",
              "    <tr>\n",
              "      <th>1</th>\n",
              "      <td>-58.413959</td>\n",
              "      <td>-34.606224</td>\n",
              "      <td>1076</td>\n",
              "      <td>ASPRO</td>\n",
              "      <td>GAS ING SOCIEDAD ANONIMA</td>\n",
              "      <td>30-64581284-7</td>\n",
              "      <td>GNC</td>\n",
              "      <td>SARMIENTO 3412 ESQ., CIUDAD AUTóNOMA DE BUENOS...</td>\n",
              "      <td>GALLO</td>\n",
              "      <td>NaN</td>\n",
              "      <td>SARMIENTO</td>\n",
              "      <td>Almagro</td>\n",
              "      <td>Comuna 5</td>\n",
              "    </tr>\n",
              "    <tr>\n",
              "      <th>2</th>\n",
              "      <td>-58.371516</td>\n",
              "      <td>-34.591481</td>\n",
              "      <td>84</td>\n",
              "      <td>DAPSA</td>\n",
              "      <td>DESTILERIA ARGENTINA DE PETROLEO S.A.</td>\n",
              "      <td>30-55025533-9</td>\n",
              "      <td>LIQUIDOS</td>\n",
              "      <td>AVDA. E. MADERO Y SAN MARTIN, RETIRO - C.A.B.A.</td>\n",
              "      <td>MARTINEZ ZUVIRIA, GUSTAVO,</td>\n",
              "      <td>NaN</td>\n",
              "      <td>SAN MARTIN</td>\n",
              "      <td>Retiro</td>\n",
              "      <td>Comuna 1</td>\n",
              "    </tr>\n",
              "    <tr>\n",
              "      <th>3</th>\n",
              "      <td>-58.486913</td>\n",
              "      <td>-34.567834</td>\n",
              "      <td>114</td>\n",
              "      <td>ESSO</td>\n",
              "      <td>SERVICENTRO CONGRESO - 158698</td>\n",
              "      <td>30-50691900-9</td>\n",
              "      <td>DUAL</td>\n",
              "      <td>AV CONGRESO 4801, CAPITAL FED ZONA 5</td>\n",
              "      <td>CONGRESO AV.</td>\n",
              "      <td>4801.0</td>\n",
              "      <td>GALVAN</td>\n",
              "      <td>Villa Urquiza</td>\n",
              "      <td>Comuna 12</td>\n",
              "    </tr>\n",
              "    <tr>\n",
              "      <th>4</th>\n",
              "      <td>-58.466071</td>\n",
              "      <td>-34.562203</td>\n",
              "      <td>115</td>\n",
              "      <td>ESSO</td>\n",
              "      <td>SERVICENTRO DEL TEJAR - 158625</td>\n",
              "      <td>30-50691900-9</td>\n",
              "      <td>LIQUIDOS</td>\n",
              "      <td>MONROE 3078, CAPITAL FED ZONA 5</td>\n",
              "      <td>BALBIN, RICARDO, DR. AV.</td>\n",
              "      <td>3078.0</td>\n",
              "      <td>MONROE</td>\n",
              "      <td>Belgrano</td>\n",
              "      <td>Comuna 13</td>\n",
              "    </tr>\n",
              "  </tbody>\n",
              "</table>\n",
              "</div>\n",
              "    <div class=\"colab-df-buttons\">\n",
              "\n",
              "  <div class=\"colab-df-container\">\n",
              "    <button class=\"colab-df-convert\" onclick=\"convertToInteractive('df-57219e02-7db4-4dc0-93d1-eee04174927c')\"\n",
              "            title=\"Convert this dataframe to an interactive table.\"\n",
              "            style=\"display:none;\">\n",
              "\n",
              "  <svg xmlns=\"http://www.w3.org/2000/svg\" height=\"24px\" viewBox=\"0 -960 960 960\">\n",
              "    <path d=\"M120-120v-720h720v720H120Zm60-500h600v-160H180v160Zm220 220h160v-160H400v160Zm0 220h160v-160H400v160ZM180-400h160v-160H180v160Zm440 0h160v-160H620v160ZM180-180h160v-160H180v160Zm440 0h160v-160H620v160Z\"/>\n",
              "  </svg>\n",
              "    </button>\n",
              "\n",
              "  <style>\n",
              "    .colab-df-container {\n",
              "      display:flex;\n",
              "      gap: 12px;\n",
              "    }\n",
              "\n",
              "    .colab-df-convert {\n",
              "      background-color: #E8F0FE;\n",
              "      border: none;\n",
              "      border-radius: 50%;\n",
              "      cursor: pointer;\n",
              "      display: none;\n",
              "      fill: #1967D2;\n",
              "      height: 32px;\n",
              "      padding: 0 0 0 0;\n",
              "      width: 32px;\n",
              "    }\n",
              "\n",
              "    .colab-df-convert:hover {\n",
              "      background-color: #E2EBFA;\n",
              "      box-shadow: 0px 1px 2px rgba(60, 64, 67, 0.3), 0px 1px 3px 1px rgba(60, 64, 67, 0.15);\n",
              "      fill: #174EA6;\n",
              "    }\n",
              "\n",
              "    .colab-df-buttons div {\n",
              "      margin-bottom: 4px;\n",
              "    }\n",
              "\n",
              "    [theme=dark] .colab-df-convert {\n",
              "      background-color: #3B4455;\n",
              "      fill: #D2E3FC;\n",
              "    }\n",
              "\n",
              "    [theme=dark] .colab-df-convert:hover {\n",
              "      background-color: #434B5C;\n",
              "      box-shadow: 0px 1px 3px 1px rgba(0, 0, 0, 0.15);\n",
              "      filter: drop-shadow(0px 1px 2px rgba(0, 0, 0, 0.3));\n",
              "      fill: #FFFFFF;\n",
              "    }\n",
              "  </style>\n",
              "\n",
              "    <script>\n",
              "      const buttonEl =\n",
              "        document.querySelector('#df-57219e02-7db4-4dc0-93d1-eee04174927c button.colab-df-convert');\n",
              "      buttonEl.style.display =\n",
              "        google.colab.kernel.accessAllowed ? 'block' : 'none';\n",
              "\n",
              "      async function convertToInteractive(key) {\n",
              "        const element = document.querySelector('#df-57219e02-7db4-4dc0-93d1-eee04174927c');\n",
              "        const dataTable =\n",
              "          await google.colab.kernel.invokeFunction('convertToInteractive',\n",
              "                                                    [key], {});\n",
              "        if (!dataTable) return;\n",
              "\n",
              "        const docLinkHtml = 'Like what you see? Visit the ' +\n",
              "          '<a target=\"_blank\" href=https://colab.research.google.com/notebooks/data_table.ipynb>data table notebook</a>'\n",
              "          + ' to learn more about interactive tables.';\n",
              "        element.innerHTML = '';\n",
              "        dataTable['output_type'] = 'display_data';\n",
              "        await google.colab.output.renderOutput(dataTable, element);\n",
              "        const docLink = document.createElement('div');\n",
              "        docLink.innerHTML = docLinkHtml;\n",
              "        element.appendChild(docLink);\n",
              "      }\n",
              "    </script>\n",
              "  </div>\n",
              "\n",
              "\n",
              "    <div id=\"df-0484878f-2aee-45cb-a267-6bf20ef48aa8\">\n",
              "      <button class=\"colab-df-quickchart\" onclick=\"quickchart('df-0484878f-2aee-45cb-a267-6bf20ef48aa8')\"\n",
              "                title=\"Suggest charts\"\n",
              "                style=\"display:none;\">\n",
              "\n",
              "<svg xmlns=\"http://www.w3.org/2000/svg\" height=\"24px\"viewBox=\"0 0 24 24\"\n",
              "     width=\"24px\">\n",
              "    <g>\n",
              "        <path d=\"M19 3H5c-1.1 0-2 .9-2 2v14c0 1.1.9 2 2 2h14c1.1 0 2-.9 2-2V5c0-1.1-.9-2-2-2zM9 17H7v-7h2v7zm4 0h-2V7h2v10zm4 0h-2v-4h2v4z\"/>\n",
              "    </g>\n",
              "</svg>\n",
              "      </button>\n",
              "\n",
              "<style>\n",
              "  .colab-df-quickchart {\n",
              "      --bg-color: #E8F0FE;\n",
              "      --fill-color: #1967D2;\n",
              "      --hover-bg-color: #E2EBFA;\n",
              "      --hover-fill-color: #174EA6;\n",
              "      --disabled-fill-color: #AAA;\n",
              "      --disabled-bg-color: #DDD;\n",
              "  }\n",
              "\n",
              "  [theme=dark] .colab-df-quickchart {\n",
              "      --bg-color: #3B4455;\n",
              "      --fill-color: #D2E3FC;\n",
              "      --hover-bg-color: #434B5C;\n",
              "      --hover-fill-color: #FFFFFF;\n",
              "      --disabled-bg-color: #3B4455;\n",
              "      --disabled-fill-color: #666;\n",
              "  }\n",
              "\n",
              "  .colab-df-quickchart {\n",
              "    background-color: var(--bg-color);\n",
              "    border: none;\n",
              "    border-radius: 50%;\n",
              "    cursor: pointer;\n",
              "    display: none;\n",
              "    fill: var(--fill-color);\n",
              "    height: 32px;\n",
              "    padding: 0;\n",
              "    width: 32px;\n",
              "  }\n",
              "\n",
              "  .colab-df-quickchart:hover {\n",
              "    background-color: var(--hover-bg-color);\n",
              "    box-shadow: 0 1px 2px rgba(60, 64, 67, 0.3), 0 1px 3px 1px rgba(60, 64, 67, 0.15);\n",
              "    fill: var(--button-hover-fill-color);\n",
              "  }\n",
              "\n",
              "  .colab-df-quickchart-complete:disabled,\n",
              "  .colab-df-quickchart-complete:disabled:hover {\n",
              "    background-color: var(--disabled-bg-color);\n",
              "    fill: var(--disabled-fill-color);\n",
              "    box-shadow: none;\n",
              "  }\n",
              "\n",
              "  .colab-df-spinner {\n",
              "    border: 2px solid var(--fill-color);\n",
              "    border-color: transparent;\n",
              "    border-bottom-color: var(--fill-color);\n",
              "    animation:\n",
              "      spin 1s steps(1) infinite;\n",
              "  }\n",
              "\n",
              "  @keyframes spin {\n",
              "    0% {\n",
              "      border-color: transparent;\n",
              "      border-bottom-color: var(--fill-color);\n",
              "      border-left-color: var(--fill-color);\n",
              "    }\n",
              "    20% {\n",
              "      border-color: transparent;\n",
              "      border-left-color: var(--fill-color);\n",
              "      border-top-color: var(--fill-color);\n",
              "    }\n",
              "    30% {\n",
              "      border-color: transparent;\n",
              "      border-left-color: var(--fill-color);\n",
              "      border-top-color: var(--fill-color);\n",
              "      border-right-color: var(--fill-color);\n",
              "    }\n",
              "    40% {\n",
              "      border-color: transparent;\n",
              "      border-right-color: var(--fill-color);\n",
              "      border-top-color: var(--fill-color);\n",
              "    }\n",
              "    60% {\n",
              "      border-color: transparent;\n",
              "      border-right-color: var(--fill-color);\n",
              "    }\n",
              "    80% {\n",
              "      border-color: transparent;\n",
              "      border-right-color: var(--fill-color);\n",
              "      border-bottom-color: var(--fill-color);\n",
              "    }\n",
              "    90% {\n",
              "      border-color: transparent;\n",
              "      border-bottom-color: var(--fill-color);\n",
              "    }\n",
              "  }\n",
              "</style>\n",
              "\n",
              "      <script>\n",
              "        async function quickchart(key) {\n",
              "          const quickchartButtonEl =\n",
              "            document.querySelector('#' + key + ' button');\n",
              "          quickchartButtonEl.disabled = true;  // To prevent multiple clicks.\n",
              "          quickchartButtonEl.classList.add('colab-df-spinner');\n",
              "          try {\n",
              "            const charts = await google.colab.kernel.invokeFunction(\n",
              "                'suggestCharts', [key], {});\n",
              "          } catch (error) {\n",
              "            console.error('Error during call to suggestCharts:', error);\n",
              "          }\n",
              "          quickchartButtonEl.classList.remove('colab-df-spinner');\n",
              "          quickchartButtonEl.classList.add('colab-df-quickchart-complete');\n",
              "        }\n",
              "        (() => {\n",
              "          let quickchartButtonEl =\n",
              "            document.querySelector('#df-0484878f-2aee-45cb-a267-6bf20ef48aa8 button');\n",
              "          quickchartButtonEl.style.display =\n",
              "            google.colab.kernel.accessAllowed ? 'block' : 'none';\n",
              "        })();\n",
              "      </script>\n",
              "    </div>\n",
              "\n",
              "    </div>\n",
              "  </div>\n"
            ],
            "application/vnd.google.colaboratory.intrinsic+json": {
              "type": "dataframe",
              "variable_name": "data_set",
              "summary": "{\n  \"name\": \"data_set\",\n  \"rows\": 230,\n  \"fields\": [\n    {\n      \"column\": \"long\",\n      \"properties\": {\n        \"dtype\": \"number\",\n        \"std\": 0.04146319396699722,\n        \"min\": -58.5301925890779,\n        \"max\": -58.3635546483074,\n        \"num_unique_values\": 230,\n        \"samples\": [\n          -58.482110801045,\n          -58.4238689602541,\n          -58.3761660822694\n        ],\n        \"semantic_type\": \"\",\n        \"description\": \"\"\n      }\n    },\n    {\n      \"column\": \"lat\",\n      \"properties\": {\n        \"dtype\": \"number\",\n        \"std\": 0.033409258057664475,\n        \"min\": -34.6969705419266,\n        \"max\": -34.538318941478,\n        \"num_unique_values\": 230,\n        \"samples\": [\n          -34.6512214333317,\n          -34.5976544972201,\n          -34.6162991556142\n        ],\n        \"semantic_type\": \"\",\n        \"description\": \"\"\n      }\n    },\n    {\n      \"column\": \"id\",\n      \"properties\": {\n        \"dtype\": \"number\",\n        \"std\": 119,\n        \"min\": 1,\n        \"max\": 1076,\n        \"num_unique_values\": 230,\n        \"samples\": [\n          14,\n          157,\n          122\n        ],\n        \"semantic_type\": \"\",\n        \"description\": \"\"\n      }\n    },\n    {\n      \"column\": \"nombre\",\n      \"properties\": {\n        \"dtype\": \"category\",\n        \"num_unique_values\": 11,\n        \"samples\": [\n          \"PETROBRAS\",\n          \"ASPRO\",\n          \"SOL\"\n        ],\n        \"semantic_type\": \"\",\n        \"description\": \"\"\n      }\n    },\n    {\n      \"column\": \"razon_social\",\n      \"properties\": {\n        \"dtype\": \"string\",\n        \"num_unique_values\": 212,\n        \"samples\": [\n          \"SERVICENTRO LIBERTADOR - 158631\",\n          \"MAURER & GRUMELLI SRL\",\n          \"NAFPUR SA\"\n        ],\n        \"semantic_type\": \"\",\n        \"description\": \"\"\n      }\n    },\n    {\n      \"column\": \"cuit\",\n      \"properties\": {\n        \"dtype\": \"string\",\n        \"num_unique_values\": 157,\n        \"samples\": [\n          \"30-65721366-3\",\n          \"30-65084645-8\",\n          \"30-57223430-0\"\n        ],\n        \"semantic_type\": \"\",\n        \"description\": \"\"\n      }\n    },\n    {\n      \"column\": \"tipo_de_boca\",\n      \"properties\": {\n        \"dtype\": \"category\",\n        \"num_unique_values\": 3,\n        \"samples\": [\n          \"GNC\",\n          \"LIQUIDOS\",\n          \"DUAL\"\n        ],\n        \"semantic_type\": \"\",\n        \"description\": \"\"\n      }\n    },\n    {\n      \"column\": \"domicilio\",\n      \"properties\": {\n        \"dtype\": \"string\",\n        \"num_unique_values\": 230,\n        \"samples\": [\n          \"AVENIDA DOMINGO OLIVERA 1136 Y WHITE, CAPITAL FEDERAL\",\n          \"AV. CORDOBA 4060, CAPITAL FEDERAL\",\n          \"CHILE 702 ESQ. CHACABUCO, CAPITAL FED ZONA 1\"\n        ],\n        \"semantic_type\": \"\",\n        \"description\": \"\"\n      }\n    },\n    {\n      \"column\": \"calle_nombre\",\n      \"properties\": {\n        \"dtype\": \"string\",\n        \"num_unique_values\": 149,\n        \"samples\": [\n          \"BAHIA BLANCA\",\n          \"BEIRO, FRANCISCO AV.\",\n          \"TOLL\"\n        ],\n        \"semantic_type\": \"\",\n        \"description\": \"\"\n      }\n    },\n    {\n      \"column\": \"calle_altura\",\n      \"properties\": {\n        \"dtype\": \"number\",\n        \"std\": 1845.4209815409101,\n        \"min\": 19.0,\n        \"max\": 7920.0,\n        \"num_unique_values\": 77,\n        \"samples\": [\n          3550.0,\n          1691.0,\n          6398.0\n        ],\n        \"semantic_type\": \"\",\n        \"description\": \"\"\n      }\n    },\n    {\n      \"column\": \"calle_cruce\",\n      \"properties\": {\n        \"dtype\": \"string\",\n        \"num_unique_values\": 181,\n        \"samples\": [\n          \"SAN MARTIN AV.\",\n          \"DE LA TORRE, LISANDRO AV.\",\n          \"POLA\"\n        ],\n        \"semantic_type\": \"\",\n        \"description\": \"\"\n      }\n    },\n    {\n      \"column\": \"barrio\",\n      \"properties\": {\n        \"dtype\": \"category\",\n        \"num_unique_values\": 45,\n        \"samples\": [\n          \"Boca\",\n          \"Recoleta\",\n          \"Flores\"\n        ],\n        \"semantic_type\": \"\",\n        \"description\": \"\"\n      }\n    },\n    {\n      \"column\": \"comuna\",\n      \"properties\": {\n        \"dtype\": \"category\",\n        \"num_unique_values\": 15,\n        \"samples\": [\n          \"Comuna 6\",\n          \"Comuna 4\",\n          \"Comuna 12\"\n        ],\n        \"semantic_type\": \"\",\n        \"description\": \"\"\n      }\n    }\n  ]\n}"
            }
          },
          "metadata": {},
          "execution_count": 5
        }
      ]
    },
    {
      "cell_type": "markdown",
      "source": [
        "### Columnas del dataset\n"
      ],
      "metadata": {
        "id": "f9P8pfrn3SMw"
      }
    },
    {
      "cell_type": "code",
      "source": [
        "\n",
        "estaciones_df.columns"
      ],
      "metadata": {
        "colab": {
          "base_uri": "https://localhost:8080/"
        },
        "id": "PC_d_HlvszUX",
        "outputId": "d07a1429-cc71-4d2d-f82e-22beedc8a87a"
      },
      "execution_count": null,
      "outputs": [
        {
          "output_type": "execute_result",
          "data": {
            "text/plain": [
              "Index(['long', 'lat', 'id', 'nombre', 'razon_social', 'cuit', 'tipo_de_boca',\n",
              "       'domicilio', 'calle_nombre', 'calle_altura', 'calle_cruce', 'barrio',\n",
              "       'comuna'],\n",
              "      dtype='object')"
            ]
          },
          "metadata": {},
          "execution_count": 6
        }
      ]
    },
    {
      "cell_type": "markdown",
      "source": [
        "###Informacion de la cantidad de colmnas y filas del dataset\n"
      ],
      "metadata": {
        "id": "5Qp4kgkh3XKw"
      }
    },
    {
      "cell_type": "code",
      "source": [
        "estaciones_df.shape"
      ],
      "metadata": {
        "colab": {
          "base_uri": "https://localhost:8080/"
        },
        "id": "1O3gb_SHtB0j",
        "outputId": "a18963f8-c7ae-4c16-f1b7-5ff21f728bce"
      },
      "execution_count": null,
      "outputs": [
        {
          "output_type": "execute_result",
          "data": {
            "text/plain": [
              "(230, 13)"
            ]
          },
          "metadata": {},
          "execution_count": 8
        }
      ]
    },
    {
      "cell_type": "markdown",
      "source": [
        "### Trabajo con datos nulos"
      ],
      "metadata": {
        "id": "I5KlaEoS3kFU"
      }
    },
    {
      "cell_type": "code",
      "source": [
        "\n",
        "print(\"\\nCantidad de valores nulos por columna:\")\n",
        "print(estaciones_df.isnull().sum())\n"
      ],
      "metadata": {
        "colab": {
          "base_uri": "https://localhost:8080/"
        },
        "id": "2ZJj7Ir1twq8",
        "outputId": "bc79d3d1-efde-4607-f0be-498a4783fcf7"
      },
      "execution_count": null,
      "outputs": [
        {
          "output_type": "stream",
          "name": "stdout",
          "text": [
            "\n",
            "Cantidad de valores nulos por columna:\n",
            "long              0\n",
            "lat               0\n",
            "id                0\n",
            "nombre            0\n",
            "razon_social      0\n",
            "cuit              0\n",
            "tipo_de_boca      4\n",
            "domicilio         0\n",
            "calle_nombre      0\n",
            "calle_altura    153\n",
            "calle_cruce       0\n",
            "barrio            1\n",
            "comuna            1\n",
            "dtype: int64\n"
          ]
        }
      ]
    },
    {
      "cell_type": "code",
      "source": [
        "# Eliminar filas completamente vacías (si las hay)\n",
        "estaciones_df = estaciones_df.dropna(how='all')\n"
      ],
      "metadata": {
        "id": "K1M7xXtPuAcy"
      },
      "execution_count": 30,
      "outputs": []
    },
    {
      "cell_type": "markdown",
      "source": [
        "###Tipos de datos:\n"
      ],
      "metadata": {
        "id": "fa7RoIMM3sm0"
      }
    },
    {
      "cell_type": "code",
      "source": [
        "print(\"\\nTipos de datos:\")\n",
        "print(estaciones_df.dtypes)"
      ],
      "metadata": {
        "colab": {
          "base_uri": "https://localhost:8080/"
        },
        "id": "F0VNF4d8uKHy",
        "outputId": "4dc3fdbc-0300-4d7d-828e-c3c9fd73d16c"
      },
      "execution_count": null,
      "outputs": [
        {
          "output_type": "stream",
          "name": "stdout",
          "text": [
            "\n",
            "Tipos de datos:\n",
            "long            float64\n",
            "lat             float64\n",
            "id                int64\n",
            "nombre           object\n",
            "razon_social     object\n",
            "cuit             object\n",
            "tipo_de_boca     object\n",
            "domicilio        object\n",
            "calle_nombre     object\n",
            "calle_altura    float64\n",
            "calle_cruce      object\n",
            "barrio           object\n",
            "comuna           object\n",
            "dtype: object\n"
          ]
        }
      ]
    },
    {
      "cell_type": "markdown",
      "source": [
        "###Cuantas estaciones hay en total\n"
      ],
      "metadata": {
        "id": "RWQ8t63h31Xb"
      }
    },
    {
      "cell_type": "code",
      "source": [
        "estaciones_df['nombre'].value_counts()\n"
      ],
      "metadata": {
        "colab": {
          "base_uri": "https://localhost:8080/",
          "height": 460
        },
        "id": "Ke__wDWZ0NFo",
        "outputId": "91f57837-3e24-4c24-da2c-4b5017af9351"
      },
      "execution_count": null,
      "outputs": [
        {
          "output_type": "execute_result",
          "data": {
            "text/plain": [
              "nombre\n",
              "YPF          84\n",
              "SHELL        56\n",
              "ESSO         39\n",
              "PETROBRAS    18\n",
              "SIN MARCA    13\n",
              "OIL          12\n",
              "ASPRO         2\n",
              "SOL           2\n",
              "PDVSUR        2\n",
              "DAPSA         1\n",
              "RHASA         1\n",
              "Name: count, dtype: int64"
            ],
            "text/html": [
              "<div>\n",
              "<style scoped>\n",
              "    .dataframe tbody tr th:only-of-type {\n",
              "        vertical-align: middle;\n",
              "    }\n",
              "\n",
              "    .dataframe tbody tr th {\n",
              "        vertical-align: top;\n",
              "    }\n",
              "\n",
              "    .dataframe thead th {\n",
              "        text-align: right;\n",
              "    }\n",
              "</style>\n",
              "<table border=\"1\" class=\"dataframe\">\n",
              "  <thead>\n",
              "    <tr style=\"text-align: right;\">\n",
              "      <th></th>\n",
              "      <th>count</th>\n",
              "    </tr>\n",
              "    <tr>\n",
              "      <th>nombre</th>\n",
              "      <th></th>\n",
              "    </tr>\n",
              "  </thead>\n",
              "  <tbody>\n",
              "    <tr>\n",
              "      <th>YPF</th>\n",
              "      <td>84</td>\n",
              "    </tr>\n",
              "    <tr>\n",
              "      <th>SHELL</th>\n",
              "      <td>56</td>\n",
              "    </tr>\n",
              "    <tr>\n",
              "      <th>ESSO</th>\n",
              "      <td>39</td>\n",
              "    </tr>\n",
              "    <tr>\n",
              "      <th>PETROBRAS</th>\n",
              "      <td>18</td>\n",
              "    </tr>\n",
              "    <tr>\n",
              "      <th>SIN MARCA</th>\n",
              "      <td>13</td>\n",
              "    </tr>\n",
              "    <tr>\n",
              "      <th>OIL</th>\n",
              "      <td>12</td>\n",
              "    </tr>\n",
              "    <tr>\n",
              "      <th>ASPRO</th>\n",
              "      <td>2</td>\n",
              "    </tr>\n",
              "    <tr>\n",
              "      <th>SOL</th>\n",
              "      <td>2</td>\n",
              "    </tr>\n",
              "    <tr>\n",
              "      <th>PDVSUR</th>\n",
              "      <td>2</td>\n",
              "    </tr>\n",
              "    <tr>\n",
              "      <th>DAPSA</th>\n",
              "      <td>1</td>\n",
              "    </tr>\n",
              "    <tr>\n",
              "      <th>RHASA</th>\n",
              "      <td>1</td>\n",
              "    </tr>\n",
              "  </tbody>\n",
              "</table>\n",
              "</div><br><label><b>dtype:</b> int64</label>"
            ]
          },
          "metadata": {},
          "execution_count": 27
        }
      ]
    },
    {
      "cell_type": "markdown",
      "source": [
        "####Aparecio \"SIN MARCA\" vamos a indagar más para ver si hay patrones entre ellas:\n"
      ],
      "metadata": {
        "id": "x1UT3oCz384C"
      }
    },
    {
      "cell_type": "code",
      "source": [
        "\n",
        "sin_marca_df = estaciones_df[estaciones_df['nombre'] == 'SIN MARCA']\n",
        "print(sin_marca_df)\n",
        "\n"
      ],
      "metadata": {
        "colab": {
          "base_uri": "https://localhost:8080/"
        },
        "id": "lQoYEpNo0g-y",
        "outputId": "59997c10-23ab-4c45-8994-224bd3017ca1"
      },
      "execution_count": 29,
      "outputs": [
        {
          "output_type": "stream",
          "name": "stdout",
          "text": [
            "          long        lat   id     nombre  \\\n",
            "131 -58.417726 -34.638543  111  SIN MARCA   \n",
            "132 -58.493311 -34.594240  110  SIN MARCA   \n",
            "133 -58.502052 -34.666942  109  SIN MARCA   \n",
            "134 -58.451399 -34.615701  108  SIN MARCA   \n",
            "135 -58.410318 -34.615291  107  SIN MARCA   \n",
            "136 -58.448869 -34.600220  106  SIN MARCA   \n",
            "137 -58.385166 -34.577700  105  SIN MARCA   \n",
            "138 -58.475020 -34.605820  104  SIN MARCA   \n",
            "139 -58.519252 -34.610100  103  SIN MARCA   \n",
            "140 -58.467940 -34.589450  102  SIN MARCA   \n",
            "141 -58.465609 -34.538319  101  SIN MARCA   \n",
            "142 -58.508742 -34.638731  100  SIN MARCA   \n",
            "143 -58.378866 -34.618351   99  SIN MARCA   \n",
            "\n",
            "                                         razon_social           cuit  \\\n",
            "131                              CHICLANA 3827 S.R.L.  30-66307899-9   \n",
            "132                                GNC AGRONOMIA S.A.  30-64935548-3   \n",
            "133                             ESPINOZA RUBEN EMILIO  20-04824852-8   \n",
            "134                               CASADO DANIEL ANGEL  20-07727312-4   \n",
            "135  POLICIA FEDERAL ARGENTINA (SECCION COMBUSTIBLES)  30-62405191-9   \n",
            "136                        COMBUSTIBLES WARNES S.R.L.  30-70859181-1   \n",
            "137                            DEL BUEN PUERTO S.R.L.  30-70802799-1   \n",
            "138                                      NAF GAS S.A.  30-69544390-7   \n",
            "139                                        INDEGAS SA  33-64545312-9   \n",
            "140                             RIVELLO NILDA EUSEBIA  27-09999306-0   \n",
            "141                                         PEGO S.A.  30-68242004-5   \n",
            "142                                     ORTFRE S.R.L.  30-68369127-1   \n",
            "143                             LUPONE RICARDO DANIEL  20-17254687-1   \n",
            "\n",
            "    tipo_de_boca                                          domicilio  \\\n",
            "131         DUAL                         AVDA. CHICLANA 3827, BOEDO   \n",
            "132          GNC               AV. FCO. BEIRO 2801, CAPITAL FEDERAL   \n",
            "133          NaN               CARDENAS 2694 Y SAN PEDRO, MATADEROS   \n",
            "134          NaN                 NEUQUEN 1241 Y PAYSANDU, CABALLITO   \n",
            "135     LIQUIDOS  AVDA. BELGRANO 3144 E/URQUIZA Y 24 DE NOVIEMBR...   \n",
            "136     LIQUIDOS          AVDA. WARNES 880, VILLA CRESPO - C.A.B.A.   \n",
            "137     LIQUIDOS  JUNIN S/N E/ CASTILLO Y RAFAEL OBLIGADO (DARSE...   \n",
            "138         DUAL  CARACAS 2319 Y AVDA. ALVARES JONTE, PATERNAL -...   \n",
            "139          GNC  AVENIDA FRANCISCO BEIRO ENTRE QUEVEDO Y DESAGU...   \n",
            "140          NaN      HEREDIA 207 Y DEL CAMPO, CHACARITA - C.A.B.A.   \n",
            "141          NaN           AVDA. DEL LIBERTADOR 8404 Y ARIAS, NUÑEZ   \n",
            "142     LIQUIDOS  AVDA. RIVADAVIA 10301 Y DUPUY, VILLA LURO - C....   \n",
            "143     LIQUIDOS      TACUARI 885 Y ESTADOS UNIDOS, CAPITAL FEDERAL   \n",
            "\n",
            "              calle_nombre  calle_altura            calle_cruce  \\\n",
            "131           CHICLANA AV.        3827.0  JANTIN, JUAN BAUTISTA   \n",
            "132   BEIRO, FRANCISCO AV.        2801.0                TERRADA   \n",
            "133    CARDENAS, CNEL. AV.           NaN              SAN PEDRO   \n",
            "134                AMBERES           NaN                NEUQUEN   \n",
            "135           BELGRANO AV.           NaN         URQUIZA, GRAL.   \n",
            "136                 THAMES         880.0             WARNES AV.   \n",
            "137  CALLE 12 (NO OFICIAL)           NaN  CALLE 13 (NO OFICIAL)   \n",
            "138          ALVAREZ JONTE           NaN                CARACAS   \n",
            "139   BEIRO, FRANCISCO AV.           NaN                QUEVEDO   \n",
            "140          DEL CAMPO AV.           NaN                HEREDIA   \n",
            "141                  ARIAS           NaN     DEL LIBERTADOR AV.   \n",
            "142               CORVALAN           NaN                  DUPUY   \n",
            "143         ESTADOS UNIDOS           NaN                TACUARI   \n",
            "\n",
            "               barrio     comuna  \n",
            "131             Boedo   Comuna 5  \n",
            "132         Agronomia  Comuna 15  \n",
            "133         Mataderos   Comuna 9  \n",
            "134         Caballito   Comuna 6  \n",
            "135         Balvanera   Comuna 3  \n",
            "136      Villa Crespo  Comuna 15  \n",
            "137          Recoleta   Comuna 2  \n",
            "138  Villa Del Parque  Comuna 11  \n",
            "139      Villa Devoto  Comuna 11  \n",
            "140     Villa Ortuzar  Comuna 15  \n",
            "141        Nu\\u00f1ez  Comuna 13  \n",
            "142        Villa Luro  Comuna 10  \n",
            "143      Constitucion   Comuna 1  \n"
          ]
        }
      ]
    },
    {
      "cell_type": "code",
      "source": [
        "#Donde estan ?\n",
        "sin_marca_df['barrio'].value_counts()\n"
      ],
      "metadata": {
        "colab": {
          "base_uri": "https://localhost:8080/",
          "height": 523
        },
        "collapsed": true,
        "id": "yKou2ygt2hYf",
        "outputId": "db88f5bf-900f-4cd4-f9b2-6733c5aa1b56"
      },
      "execution_count": 31,
      "outputs": [
        {
          "output_type": "execute_result",
          "data": {
            "text/plain": [
              "barrio\n",
              "Boedo               1\n",
              "Agronomia           1\n",
              "Mataderos           1\n",
              "Caballito           1\n",
              "Balvanera           1\n",
              "Villa Crespo        1\n",
              "Recoleta            1\n",
              "Villa Del Parque    1\n",
              "Villa Devoto        1\n",
              "Villa Ortuzar       1\n",
              "Nu\\u00f1ez          1\n",
              "Villa Luro          1\n",
              "Constitucion        1\n",
              "Name: count, dtype: int64"
            ],
            "text/html": [
              "<div>\n",
              "<style scoped>\n",
              "    .dataframe tbody tr th:only-of-type {\n",
              "        vertical-align: middle;\n",
              "    }\n",
              "\n",
              "    .dataframe tbody tr th {\n",
              "        vertical-align: top;\n",
              "    }\n",
              "\n",
              "    .dataframe thead th {\n",
              "        text-align: right;\n",
              "    }\n",
              "</style>\n",
              "<table border=\"1\" class=\"dataframe\">\n",
              "  <thead>\n",
              "    <tr style=\"text-align: right;\">\n",
              "      <th></th>\n",
              "      <th>count</th>\n",
              "    </tr>\n",
              "    <tr>\n",
              "      <th>barrio</th>\n",
              "      <th></th>\n",
              "    </tr>\n",
              "  </thead>\n",
              "  <tbody>\n",
              "    <tr>\n",
              "      <th>Boedo</th>\n",
              "      <td>1</td>\n",
              "    </tr>\n",
              "    <tr>\n",
              "      <th>Agronomia</th>\n",
              "      <td>1</td>\n",
              "    </tr>\n",
              "    <tr>\n",
              "      <th>Mataderos</th>\n",
              "      <td>1</td>\n",
              "    </tr>\n",
              "    <tr>\n",
              "      <th>Caballito</th>\n",
              "      <td>1</td>\n",
              "    </tr>\n",
              "    <tr>\n",
              "      <th>Balvanera</th>\n",
              "      <td>1</td>\n",
              "    </tr>\n",
              "    <tr>\n",
              "      <th>Villa Crespo</th>\n",
              "      <td>1</td>\n",
              "    </tr>\n",
              "    <tr>\n",
              "      <th>Recoleta</th>\n",
              "      <td>1</td>\n",
              "    </tr>\n",
              "    <tr>\n",
              "      <th>Villa Del Parque</th>\n",
              "      <td>1</td>\n",
              "    </tr>\n",
              "    <tr>\n",
              "      <th>Villa Devoto</th>\n",
              "      <td>1</td>\n",
              "    </tr>\n",
              "    <tr>\n",
              "      <th>Villa Ortuzar</th>\n",
              "      <td>1</td>\n",
              "    </tr>\n",
              "    <tr>\n",
              "      <th>Nu\\u00f1ez</th>\n",
              "      <td>1</td>\n",
              "    </tr>\n",
              "    <tr>\n",
              "      <th>Villa Luro</th>\n",
              "      <td>1</td>\n",
              "    </tr>\n",
              "    <tr>\n",
              "      <th>Constitucion</th>\n",
              "      <td>1</td>\n",
              "    </tr>\n",
              "  </tbody>\n",
              "</table>\n",
              "</div><br><label><b>dtype:</b> int64</label>"
            ]
          },
          "metadata": {},
          "execution_count": 31
        }
      ]
    },
    {
      "cell_type": "code",
      "source": [
        "#Que tipo de boca tienen?\n",
        "sin_marca_df['tipo_de_boca'].value_counts()\n"
      ],
      "metadata": {
        "colab": {
          "base_uri": "https://localhost:8080/",
          "height": 209
        },
        "id": "7Y3SOYXt2rsQ",
        "outputId": "a593e82d-7381-40c6-f047-d539b85680ad"
      },
      "execution_count": 32,
      "outputs": [
        {
          "output_type": "execute_result",
          "data": {
            "text/plain": [
              "tipo_de_boca\n",
              "LIQUIDOS    5\n",
              "DUAL        2\n",
              "GNC         2\n",
              "Name: count, dtype: int64"
            ],
            "text/html": [
              "<div>\n",
              "<style scoped>\n",
              "    .dataframe tbody tr th:only-of-type {\n",
              "        vertical-align: middle;\n",
              "    }\n",
              "\n",
              "    .dataframe tbody tr th {\n",
              "        vertical-align: top;\n",
              "    }\n",
              "\n",
              "    .dataframe thead th {\n",
              "        text-align: right;\n",
              "    }\n",
              "</style>\n",
              "<table border=\"1\" class=\"dataframe\">\n",
              "  <thead>\n",
              "    <tr style=\"text-align: right;\">\n",
              "      <th></th>\n",
              "      <th>count</th>\n",
              "    </tr>\n",
              "    <tr>\n",
              "      <th>tipo_de_boca</th>\n",
              "      <th></th>\n",
              "    </tr>\n",
              "  </thead>\n",
              "  <tbody>\n",
              "    <tr>\n",
              "      <th>LIQUIDOS</th>\n",
              "      <td>5</td>\n",
              "    </tr>\n",
              "    <tr>\n",
              "      <th>DUAL</th>\n",
              "      <td>2</td>\n",
              "    </tr>\n",
              "    <tr>\n",
              "      <th>GNC</th>\n",
              "      <td>2</td>\n",
              "    </tr>\n",
              "  </tbody>\n",
              "</table>\n",
              "</div><br><label><b>dtype:</b> int64</label>"
            ]
          },
          "metadata": {},
          "execution_count": 32
        }
      ]
    },
    {
      "cell_type": "markdown",
      "source": [
        "Como encontre una categoria de nombre sin marca, decidi crear un nuevo dataframe sin ellas, por que no quiero que haga \"ruido\" mas adelante en la investigacion."
      ],
      "metadata": {
        "id": "lFRqify93bQ3"
      }
    },
    {
      "cell_type": "code",
      "source": [
        "estaciones_con_marca_df = estaciones_df[estaciones_df['nombre'] != 'SIN MARCA']\n",
        "print(\"Estaciones con marca:\", estaciones_con_marca_df.shape[0])\n",
        "print(\"Estaciones SIN marca:\", sin_marca_df.shape[0])"
      ],
      "metadata": {
        "colab": {
          "base_uri": "https://localhost:8080/"
        },
        "id": "Y8_kYV773aj_",
        "outputId": "083ec9a6-fd56-4156-d562-c9cf46e8998a"
      },
      "execution_count": 33,
      "outputs": [
        {
          "output_type": "stream",
          "name": "stdout",
          "text": [
            "Estaciones con marca: 217\n",
            "Estaciones SIN marca: 13\n"
          ]
        }
      ]
    },
    {
      "cell_type": "markdown",
      "source": [
        "####¿Cuántas estaciones de YPF hay en total?\n"
      ],
      "metadata": {
        "id": "3yxdq1IQ4LJB"
      }
    },
    {
      "cell_type": "code",
      "source": [
        "\n",
        "estaciones_con_marca_df[estaciones_con_marca_df['nombre'] == 'YPF'].shape[0]\n"
      ],
      "metadata": {
        "colab": {
          "base_uri": "https://localhost:8080/"
        },
        "id": "F6ZjKNQcyzl9",
        "outputId": "72d8301b-7ab2-4384-f6f5-95608431206e"
      },
      "execution_count": 34,
      "outputs": [
        {
          "output_type": "execute_result",
          "data": {
            "text/plain": [
              "84"
            ]
          },
          "metadata": {},
          "execution_count": 34
        }
      ]
    },
    {
      "cell_type": "markdown",
      "source": [
        "#Limpieza de datos:"
      ],
      "metadata": {
        "id": "spPMzcY-4R16"
      }
    },
    {
      "cell_type": "markdown",
      "source": [
        "\n",
        "Ahora a los datos faltantes, le agregaremos la etiqueta de \"desconocido\". Estos datos no nos interesan en nuestro proyecto. Asimismo, eliminaremos la altura, ya que con la longitud y latitud podemos inferir en su ubicacion."
      ],
      "metadata": {
        "id": "hpkB6AR6vdMQ"
      }
    },
    {
      "cell_type": "code",
      "source": [
        "# Rellenar con \"DESCONOCIDO\" los campos que tienen pocos nulos\n",
        "estaciones_con_marca_df['tipo_de_boca'] = estaciones_df['tipo_de_boca'].fillna('DESCONOCIDO')\n",
        "estaciones_con_marca_df['barrio'] = estaciones_df['barrio'].fillna('DESCONOCIDO')\n",
        "estaciones_con_marca_df['comuna'] = estaciones_df['comuna'].fillna('DESCONOCIDA')\n",
        "\n",
        "# Eliminar columna que no vamos a usar\n",
        "estaciones_con_marca_df.drop(columns=['calle_altura'], inplace=True)\n",
        "\n",
        "# Verificar que todo quedó limpio\n",
        "print(\"Nulos restantes:\")\n",
        "print(estaciones_con_marca_df.isnull().sum())\n",
        "\n",
        "print(\"\\nColumnas actuales:\")\n",
        "print(estaciones_con_marca_df.columns)"
      ],
      "metadata": {
        "colab": {
          "base_uri": "https://localhost:8080/"
        },
        "id": "6mBztIoYuxTx",
        "outputId": "557fdc76-8e91-49e9-d2d9-f0cab6cc0319"
      },
      "execution_count": 35,
      "outputs": [
        {
          "output_type": "stream",
          "name": "stdout",
          "text": [
            "Nulos restantes:\n",
            "long            0\n",
            "lat             0\n",
            "id              0\n",
            "nombre          0\n",
            "razon_social    0\n",
            "cuit            0\n",
            "tipo_de_boca    0\n",
            "domicilio       0\n",
            "calle_nombre    0\n",
            "calle_cruce     0\n",
            "barrio          0\n",
            "comuna          0\n",
            "dtype: int64\n",
            "\n",
            "Columnas actuales:\n",
            "Index(['long', 'lat', 'id', 'nombre', 'razon_social', 'cuit', 'tipo_de_boca',\n",
            "       'domicilio', 'calle_nombre', 'calle_cruce', 'barrio', 'comuna'],\n",
            "      dtype='object')\n"
          ]
        },
        {
          "output_type": "stream",
          "name": "stderr",
          "text": [
            "<ipython-input-35-d92a9497c029>:2: SettingWithCopyWarning: \n",
            "A value is trying to be set on a copy of a slice from a DataFrame.\n",
            "Try using .loc[row_indexer,col_indexer] = value instead\n",
            "\n",
            "See the caveats in the documentation: https://pandas.pydata.org/pandas-docs/stable/user_guide/indexing.html#returning-a-view-versus-a-copy\n",
            "  estaciones_con_marca_df['tipo_de_boca'] = estaciones_df['tipo_de_boca'].fillna('DESCONOCIDO')\n",
            "<ipython-input-35-d92a9497c029>:3: SettingWithCopyWarning: \n",
            "A value is trying to be set on a copy of a slice from a DataFrame.\n",
            "Try using .loc[row_indexer,col_indexer] = value instead\n",
            "\n",
            "See the caveats in the documentation: https://pandas.pydata.org/pandas-docs/stable/user_guide/indexing.html#returning-a-view-versus-a-copy\n",
            "  estaciones_con_marca_df['barrio'] = estaciones_df['barrio'].fillna('DESCONOCIDO')\n",
            "<ipython-input-35-d92a9497c029>:4: SettingWithCopyWarning: \n",
            "A value is trying to be set on a copy of a slice from a DataFrame.\n",
            "Try using .loc[row_indexer,col_indexer] = value instead\n",
            "\n",
            "See the caveats in the documentation: https://pandas.pydata.org/pandas-docs/stable/user_guide/indexing.html#returning-a-view-versus-a-copy\n",
            "  estaciones_con_marca_df['comuna'] = estaciones_df['comuna'].fillna('DESCONOCIDA')\n",
            "<ipython-input-35-d92a9497c029>:7: SettingWithCopyWarning: \n",
            "A value is trying to be set on a copy of a slice from a DataFrame\n",
            "\n",
            "See the caveats in the documentation: https://pandas.pydata.org/pandas-docs/stable/user_guide/indexing.html#returning-a-view-versus-a-copy\n",
            "  estaciones_con_marca_df.drop(columns=['calle_altura'], inplace=True)\n"
          ]
        }
      ]
    },
    {
      "cell_type": "markdown",
      "source": [
        "# Visualizacion de datos iniciales:\n"
      ],
      "metadata": {
        "id": "E7hOpa8n7Wog"
      }
    },
    {
      "cell_type": "markdown",
      "source": [
        "###Distribución de estaciones por comuna\n"
      ],
      "metadata": {
        "id": "F8ynPYDVvzrj"
      }
    },
    {
      "cell_type": "code",
      "source": [
        "commune_distribution = estaciones_con_marca_df.groupby('comuna').size().reset_index(name='station_count')\n",
        "sns.barplot(data=commune_distribution.sort_values('station_count', ascending=False), x='station_count', y='comuna')\n",
        "plt.title(\"Cantidad de estaciones por comuna\")\n",
        "plt.xlabel(\"Cantidad\")\n",
        "plt.ylabel(\"Comuna\")\n",
        "plt.show()"
      ],
      "metadata": {
        "colab": {
          "base_uri": "https://localhost:8080/",
          "height": 480
        },
        "id": "-n-1_3WEvy1S",
        "outputId": "5f53d43c-a245-4044-ac2a-3b6d9e43c2b4"
      },
      "execution_count": 49,
      "outputs": [
        {
          "output_type": "display_data",
          "data": {
            "text/plain": [
              "<Figure size 640x480 with 1 Axes>"
            ],
            "image/png": "[encoded data removed]"
          },
          "metadata": {}
        }
      ]
    },
    {
      "cell_type": "markdown",
      "source": [
        "### Top 10 barrios con mas cantidad de estaciones de servicio"
      ],
      "metadata": {
        "id": "_3zs3n-SgUrH"
      }
    },
    {
      "cell_type": "code",
      "source": [
        "estaciones_distribucion =estaciones_con_marca_df.groupby('barrio').size().reset_index(name='station_count')\n"
      ],
      "metadata": {
        "id": "HOs33GYBf8Ge"
      },
      "execution_count": 50,
      "outputs": []
    },
    {
      "cell_type": "code",
      "source": [
        "\n",
        "\n",
        "# Estilo visual\n",
        "sns.set(style='whitegrid')\n",
        "\n",
        "# Tamaño del gráfico\n",
        "plt.figure(figsize=(12, 6))\n",
        "\n",
        "# Graficar el top 10 de barrios con más estaciones\n",
        "top10_barrios = estaciones_distribucion.sort_values('station_count', ascending=False).head(10)\n",
        "sns.barplot(data=top10_barrios, x='station_count', y='barrio', palette='viridis')\n",
        "\n",
        "# Títulos y etiquetas\n",
        "plt.title('Top 10 Barrios con Mayor Cantidad de Estaciones de Servicio', fontsize=20)\n",
        "plt.xlabel('Cantidad de Estaciones', fontsize=16)\n",
        "plt.ylabel('Barrio', fontsize=16)\n",
        "\n",
        "# Mostrar gráfico\n",
        "plt.show()\n"
      ],
      "metadata": {
        "id": "EQ__S_E4wd5h",
        "colab": {
          "base_uri": "https://localhost:8080/",
          "height": 630
        },
        "outputId": "31bad073-9c62-492a-af0f-ea8b7e848587"
      },
      "execution_count": 51,
      "outputs": [
        {
          "output_type": "stream",
          "name": "stderr",
          "text": [
            "<ipython-input-51-c3deff3eb4b3>:9: FutureWarning: \n",
            "\n",
            "Passing `palette` without assigning `hue` is deprecated and will be removed in v0.14.0. Assign the `y` variable to `hue` and set `legend=False` for the same effect.\n",
            "\n",
            "  sns.barplot(data=top10_barrios, x='station_count', y='barrio', palette='viridis')\n"
          ]
        },
        {
          "output_type": "display_data",
          "data": {
            "text/plain": [
              "<Figure size 1200x600 with 1 Axes>"
            ],
            "image/png": "[encoded data removed]"
          },
          "metadata": {}
        }
      ]
    },
    {
      "cell_type": "markdown",
      "source": [
        "### Distribución geográfica de estaciones YPF\n"
      ],
      "metadata": {
        "id": "nUTHSUg6goTx"
      }
    },
    {
      "cell_type": "code",
      "source": [
        "# Filtrar solo YPF\n",
        "df_ypf = estaciones_con_marca_df[estaciones_con_marca_df['nombre'].str.contains(\"YPF\", case=False, na=False)]\n",
        "\n",
        "sns.set(style='whitegrid')\n",
        "plt.figure(figsize=(10, 8))\n",
        "sns.scatterplot(data=df_ypf, x='long', y='lat', color='royalblue', s=60, alpha=0.6)\n",
        "plt.title('Ubicación geográfica de estaciones YPF')\n",
        "plt.xlabel('Longitud')\n",
        "plt.ylabel('Latitud')\n",
        "plt.show()"
      ],
      "metadata": {
        "colab": {
          "base_uri": "https://localhost:8080/",
          "height": 727
        },
        "id": "3mrMg_paMxQa",
        "outputId": "6b97cbcb-83e9-4cf7-d381-10a5f4342d52"
      },
      "execution_count": 52,
      "outputs": [
        {
          "output_type": "display_data",
          "data": {
            "text/plain": [
              "<Figure size 1000x800 with 1 Axes>"
            ],
            "image/png": "[encoded data removed]"
          },
          "metadata": {}
        }
      ]
    },
    {
      "cell_type": "markdown",
      "source": [
        "### Servicio más común"
      ],
      "metadata": {
        "id": "trAzkReV1Z3K"
      }
    },
    {
      "cell_type": "code",
      "source": [
        "sns.set(style='whitegrid')\n",
        "\n",
        "# Contar los tipos de boca\n",
        "tipo_counts = estaciones_con_marca_df['tipo_de_boca'].value_counts().reset_index()\n",
        "tipo_counts.columns = ['tipo_de_boca', 'cantidad']\n",
        "\n",
        "# Crear el gráfico\n",
        "plt.figure(figsize=(10, 6))\n",
        "sns.barplot(data=tipo_counts, x='cantidad', y='tipo_de_boca', palette='mako')\n",
        "\n",
        "# Etiquetas y título\n",
        "plt.title('Tipos de Boca de Expendio Más Comunes', fontsize=18)\n",
        "plt.xlabel('Cantidad', fontsize=14)\n",
        "plt.ylabel('Tipo de Boca', fontsize=14)\n",
        "\n",
        "# Mostrar gráfico\n",
        "plt.tight_layout()\n",
        "plt.show()"
      ],
      "metadata": {
        "colab": {
          "base_uri": "https://localhost:8080/",
          "height": 713
        },
        "id": "Ohk4HtLa18RX",
        "outputId": "98fdf50d-7fa7-4be5-d51c-cdae3977e14d"
      },
      "execution_count": 53,
      "outputs": [
        {
          "output_type": "stream",
          "name": "stderr",
          "text": [
            "<ipython-input-53-158a48efa011>:9: FutureWarning: \n",
            "\n",
            "Passing `palette` without assigning `hue` is deprecated and will be removed in v0.14.0. Assign the `y` variable to `hue` and set `legend=False` for the same effect.\n",
            "\n",
            "  sns.barplot(data=tipo_counts, x='cantidad', y='tipo_de_boca', palette='mako')\n"
          ]
        },
        {
          "output_type": "display_data",
          "data": {
            "text/plain": [
              "<Figure size 1000x600 with 1 Axes>"
            ],
            "image/png": "[encoded data removed]"
          },
          "metadata": {}
        }
      ]
    },
    {
      "cell_type": "code",
      "source": [],
      "metadata": {
        "id": "fwa2hPtI5ZAG"
      },
      "execution_count": null,
      "outputs": []
    }
  ]
}