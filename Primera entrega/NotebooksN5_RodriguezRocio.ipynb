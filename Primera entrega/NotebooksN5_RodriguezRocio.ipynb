{
  "nbformat": 4,
  "nbformat_minor": 0,
  "metadata": {
    "kernelspec": {
      "display_name": "Python 3",
      "language": "python",
      "name": "python3"
    },
    "language_info": {
      "codemirror_mode": {
        "name": "ipython",
        "version": 3
      },
      "file_extension": ".py",
      "mimetype": "text/x-python",
      "name": "python",
      "nbconvert_exporter": "python",
      "pygments_lexer": "ipython3",
      "version": "3.7.3"
    },
    "colab": {
      "provenance": [],
      "include_colab_link": true
    }
  },
  "cells": [
    {
      "cell_type": "markdown",
      "metadata": {
        "id": "view-in-github",
        "colab_type": "text"
      },
      "source": [
        "<a href=\"https://colab.research.google.com/github/RocioRodriguez13/Data-Science-Ingenias-2025/blob/main/NotebooksN5_RodriguezRocio.ipynb\" target=\"_parent\"><img src=\"https://colab.research.google.com/assets/colab-badge.svg\" alt=\"Open In Colab\"/></a>"
      ]
    },
    {
      "cell_type": "markdown",
      "metadata": {
        "id": "Gp2WddtV9IwG"
      },
      "source": [
        "# Programa Ingenias+ Data Science"
      ]
    },
    {
      "cell_type": "markdown",
      "metadata": {
        "id": "H4M1yVbf9IwH"
      },
      "source": [
        "Como dijimos en clases anteriores, Python tiene implementadas muchas librerias para poder trabajar con datos. En la clase de hoy trabajaremos con una de ellas: `Numpy`."
      ]
    },
    {
      "cell_type": "markdown",
      "metadata": {
        "id": "GdTT8WeL9IwI"
      },
      "source": [
        "Antes de comenzar, vamos a hablar un poco de esta libreria o modulo.\n",
        "\n",
        "**Numpy** es una librería optimizada para realizar cálculos numéricos con vectores y matrices. A diferencia de otros lenguajes de programación, Python no posee en su estructura central la figura de matrices. Eso quiere decir que para poder trabajar con esta estructura de datos deberiamos trabajar con listas de listas. NumPy introduce el concepto de arrays o matrices."
      ]
    },
    {
      "cell_type": "markdown",
      "metadata": {
        "id": "qWkq3EHK9IwK"
      },
      "source": [
        "Al ser de código abierto, `numpy` posee una documentación muy amplia que es **SIEMPRE RECOMENDABLE** consultar."
      ]
    },
    {
      "cell_type": "markdown",
      "metadata": {
        "id": "nxe3KLUO9IwL"
      },
      "source": [
        "- [Documentacion NumPy](https://devdocs.io/numpy/)"
      ]
    },
    {
      "cell_type": "markdown",
      "metadata": {
        "id": "l1Ay3nSs9IwN"
      },
      "source": [
        "## Clase 4: Introduccion a NumPy"
      ]
    },
    {
      "cell_type": "markdown",
      "metadata": {
        "id": "X03mviQS9IyL"
      },
      "source": [
        "# Ejercicios\n",
        "\n",
        "1. Crear un arreglo de ceros de longitud 12\n",
        "2. Crear un arreglo de longitud 10 con ceros en todas sus posiciones y un 10 en la posición número 5\n",
        "3. Crear un arreglo que tenga los números del 10 al 49\n",
        "4. Crear una arreglo 2d de shape (3, 3) que tenga los números del 0 al 8\n",
        "5. Crear un arreglo de números aleatorios de longitud 100 y obtener su media y varianza\n",
        "6. Calcular la media de un arreglo usando np.sum\n",
        "7. Calcular la varianza de un arreglo usando np.sum y np.mean\n",
        "8. Crear un array de números aleatorios usando np.random.randn.\n"
      ]
    },
    {
      "cell_type": "code",
      "source": [
        "# Importamos la biblioteca Numpy\n",
        "import numpy as np"
      ],
      "metadata": {
        "id": "pi3q1M-qqu3n"
      },
      "execution_count": null,
      "outputs": []
    },
    {
      "cell_type": "code",
      "metadata": {
        "id": "G0NMKT609IyM",
        "colab": {
          "base_uri": "https://localhost:8080/"
        },
        "outputId": "0eaa3764-3aad-4831-cbbe-e0e0526fac14"
      },
      "source": [
        "# Ejericio 1\n",
        "vector1 = np.zeros(10)\n",
        "print(vector1)"
      ],
      "execution_count": null,
      "outputs": [
        {
          "output_type": "stream",
          "name": "stdout",
          "text": [
            "[0. 0. 0. 0. 0. 0. 0. 0. 0. 0.]\n"
          ]
        }
      ]
    },
    {
      "cell_type": "code",
      "source": [
        "# Ejercicio 2\n",
        "# Crea un arrelgo de longitud 10 con ceros en todas las posiciones y un 10 en la posicion numero 5\n",
        "vector2 = np.zeros(10)\n",
        "#arregl de 10 ceros\n",
        "vector2[4] = 10\n",
        "#en la posicion 4 ubicamos  el 10\n",
        "print(vector2)\n"
      ],
      "metadata": {
        "colab": {
          "base_uri": "https://localhost:8080/"
        },
        "id": "mFmDPD_Nx-6N",
        "outputId": "b8b80ec1-8b8c-4d48-921e-5d11b97a7168"
      },
      "execution_count": null,
      "outputs": [
        {
          "output_type": "stream",
          "name": "stdout",
          "text": [
            "[ 0.  0.  0.  0. 10.  0.  0.  0.  0.  0.]\n"
          ]
        }
      ]
    },
    {
      "cell_type": "code",
      "source": [
        "# Ejercicio 3\n",
        "# Crear un arreglo que tenga los números del 10 al 49\n",
        "\n",
        "arreglo3 = np.arange(10,50)\n",
        "print(arreglo3)"
      ],
      "metadata": {
        "colab": {
          "base_uri": "https://localhost:8080/"
        },
        "id": "PfpO0cFfyT4D",
        "outputId": "b89e3191-3a21-4e7d-f2ac-98e018308e75"
      },
      "execution_count": null,
      "outputs": [
        {
          "output_type": "stream",
          "name": "stdout",
          "text": [
            "[10 11 12 13 14 15 16 17 18 19 20 21 22 23 24 25 26 27 28 29 30 31 32 33\n",
            " 34 35 36 37 38 39 40 41 42 43 44 45 46 47 48 49]\n"
          ]
        }
      ]
    },
    {
      "cell_type": "code",
      "source": [
        "# Ejercicio 4\n",
        "# Crear una arreglo 2d de shape (3, 3) que tenga los números del 0 al 8\n",
        "arreglo4 = np.arange(9).reshape(3,3)\n",
        "\n",
        "print(arreglo4)\n",
        "print(arreglo4.ndim)"
      ],
      "metadata": {
        "colab": {
          "base_uri": "https://localhost:8080/"
        },
        "id": "T8mOlDa-y9sB",
        "outputId": "6c6efd69-1319-465e-bf8c-2fd64e1eed24"
      },
      "execution_count": null,
      "outputs": [
        {
          "output_type": "stream",
          "name": "stdout",
          "text": [
            "[[0 1 2]\n",
            " [3 4 5]\n",
            " [6 7 8]]\n",
            "2\n"
          ]
        }
      ]
    },
    {
      "cell_type": "code",
      "source": [
        "# Ejercicio 5\n",
        "# Crear un arreglo de números aleatorios de longitud 100 y obtener su media y varianza.\n",
        "print(\"creacion de longuitud aleatorio de 100 \")\n",
        "arreglo5 = np.random.randn(100)\n",
        "print(arreglo5)\n",
        "print ()\n",
        "print(\"creacion de media \")\n",
        "media = np.mean(arreglo5)\n",
        "print(media)\n",
        "print()\n",
        "print(\"creacion de varianza \")\n",
        "varianza = np.var(arreglo5)\n",
        "print(varianza)"
      ],
      "metadata": {
        "colab": {
          "base_uri": "https://localhost:8080/"
        },
        "id": "lEOknHst2CDk",
        "outputId": "3a5dae1a-28f4-434b-e525-7a410f2e09cd"
      },
      "execution_count": null,
      "outputs": [
        {
          "output_type": "stream",
          "name": "stdout",
          "text": [
            "creacion de longuitud aleatorio de 100 \n",
            "[-1.10807240e+00 -6.26143222e-01 -1.08482234e+00 -1.31629579e+00\n",
            "  4.69964681e-01 -9.78917976e-02 -1.86939721e+00  6.96861836e-01\n",
            "  2.56129287e-01  1.50221560e+00  1.13785694e+00  6.43546763e-02\n",
            "  4.14917593e-01 -1.48311573e-01 -2.50156302e-02  1.76919677e-01\n",
            " -1.58453758e-01  1.08579362e+00 -5.51140303e-01 -2.85719591e-02\n",
            "  1.30024211e+00 -1.12338225e+00  1.00086349e+00  5.22980721e-01\n",
            "  3.16541497e-01  6.29484466e-01  1.09488545e-01  9.96029500e-01\n",
            "  1.10090647e+00  1.41149222e+00 -6.08404666e-01 -1.30176622e+00\n",
            " -1.35810487e-01 -5.45237104e-01  1.91484294e-01 -7.72140017e-02\n",
            " -1.67392388e+00  5.50125490e-02 -4.72432441e-01 -8.33558944e-01\n",
            "  9.21198600e-01 -7.98168115e-01 -2.58909267e+00 -2.46880919e-02\n",
            "  7.85043731e-02 -1.55160384e+00 -1.60111187e-01 -1.64483258e+00\n",
            "  5.63365202e-01  1.93875587e-03 -4.30801112e-01 -8.31875135e-01\n",
            " -2.35030604e+00  1.10489834e+00  1.15367434e-01 -1.11247709e+00\n",
            "  1.21737738e+00 -4.75967696e-01 -3.78620755e-02 -1.14754602e+00\n",
            "  1.92458185e+00 -8.76596023e-01  1.74936150e+00  1.86261186e+00\n",
            " -5.58961423e-01  8.15649167e-01  5.38547418e-01  1.83775472e+00\n",
            "  1.30414416e+00  1.69558447e+00 -2.50173281e-01 -2.43919509e-01\n",
            " -1.00264711e-01  5.36849815e-01  2.46786088e+00 -6.84217854e-01\n",
            "  6.15810763e-01  1.30779207e-01 -3.63143135e-01  1.17021197e+00\n",
            "  5.51292988e-01  1.25103281e-01 -1.92624765e-01  5.11316376e-01\n",
            " -7.09764677e-01 -5.95963367e-01  9.21344981e-01  1.22105517e+00\n",
            " -3.86360271e-01 -1.16841631e+00  9.10374276e-01  1.11447637e+00\n",
            " -8.57407350e-02  4.60196502e-01  4.73558014e-01 -2.06885771e-01\n",
            " -1.31644755e+00  3.83463934e-01  9.90044142e-01  9.47997935e-02]\n",
            "\n",
            "creacion de media \n",
            "0.07168306428702213\n",
            "\n",
            "creacion de varianza \n",
            "0.9406982724526763\n"
          ]
        }
      ]
    },
    {
      "cell_type": "code",
      "source": [
        "# Ejericio 6\n",
        "# Calcular la media de un arreglo usando np.sum\n",
        "\n",
        "vector6 = np.array([1,2,3,4,10])\n",
        "media = np.sum(vector6)/len(vector6)\n",
        "#print(len(arry))\n",
        "\n",
        "print(media)\n"
      ],
      "metadata": {
        "colab": {
          "base_uri": "https://localhost:8080/"
        },
        "id": "WwM2Tckz2gnl",
        "outputId": "a7624829-eb39-4f4c-8b9d-9a1adf6bbdd1"
      },
      "execution_count": null,
      "outputs": [
        {
          "output_type": "stream",
          "name": "stdout",
          "text": [
            "4.0\n"
          ]
        }
      ]
    },
    {
      "cell_type": "code",
      "source": [
        "# Ejercicio7\n",
        "# Calcular la varianza de un arreglo usando np.sum y np.mean\n",
        "print(\"Creacion de varianza de un arreglo usando np.sum y n.mean\")\n",
        "arreglo7 = np.array([1,2,3,4,10])\n",
        "varianza = np.sum((arreglo7-np.mean(arreglo7))**2)/len(arreglo7)\n",
        "print(varianza)\n",
        "\n",
        "\n",
        "arreglo7 = np.array([1,2,3,4,10])\n",
        "varianza = np.sum((arreglo7-np.mean(arreglo7))**2)/(len(arreglo7)-1)\n",
        "\n",
        "print(varianza)"
      ],
      "metadata": {
        "colab": {
          "base_uri": "https://localhost:8080/"
        },
        "id": "OkvVVYCR3L5S",
        "outputId": "331d9dbe-be49-4fb1-fa9e-22f9b046423d"
      },
      "execution_count": null,
      "outputs": [
        {
          "output_type": "stream",
          "name": "stdout",
          "text": [
            "creacion de vianza de un arreglo usando np.sum y n.mean\n",
            "10.0\n",
            "12.5\n"
          ]
        }
      ]
    },
    {
      "cell_type": "code",
      "source": [
        "# Ejercicio 8\n",
        "# Crear un array de números aleatorios usando np.random.randn\n",
        "print(\"creacion de un array de numeros aleatorios \")\n",
        "array_aleatorio = np.random.randn(10)\n",
        "print(array_aleatorio)\n"
      ],
      "metadata": {
        "colab": {
          "base_uri": "https://localhost:8080/"
        },
        "id": "PcKPK3r03yX6",
        "outputId": "b1dfce75-8418-4a4f-cb4d-fe2adcec0bca"
      },
      "execution_count": null,
      "outputs": [
        {
          "output_type": "stream",
          "name": "stdout",
          "text": [
            "creacion de un array de numeros aleatorios \n",
            "[ 0.68571565 -0.67486645 -0.70692277  0.12474701 -1.77756882 -0.0054713\n",
            "  0.20554548 -1.46874191 -0.35159226  0.26333984]\n"
          ]
        }
      ]
    }
  ]
}